{
  "nbformat": 4,
  "nbformat_minor": 0,
  "metadata": {
    "colab": {
      "provenance": [],
      "include_colab_link": true
    },
    "kernelspec": {
      "name": "python3",
      "display_name": "Python 3"
    },
    "language_info": {
      "name": "python"
    }
  },
  "cells": [
    {
      "cell_type": "markdown",
      "metadata": {
        "id": "view-in-github",
        "colab_type": "text"
      },
      "source": [
        "<a href=\"https://colab.research.google.com/github/rasool321/Python-CourseWork/blob/main/cwd37_1_pandas.ipynb\" target=\"_parent\"><img src=\"https://colab.research.google.com/assets/colab-badge.svg\" alt=\"Open In Colab\"/></a>"
      ]
    },
    {
      "cell_type": "code",
      "execution_count": 95,
      "metadata": {
        "id": "VjExXpyIwCzg"
      },
      "outputs": [],
      "source": [
        "import pandas as pd"
      ]
    },
    {
      "cell_type": "code",
      "source": [
        "prices = [2999, 3999, 4999, 5999, 1999]\n",
        "products = ['Wireless', 'Earbuds', 'Smartphone', 'Laptop', 'Smartwatch']\n",
        "product_prices = pd.Series(prices, index=products)\n",
        "print(product_prices)\n"
      ],
      "metadata": {
        "colab": {
          "base_uri": "https://localhost:8080/"
        },
        "id": "5gXnPJfg1LWj",
        "outputId": "b41a3cba-f9dc-4525-b8d7-5fbf8befe53d"
      },
      "execution_count": 96,
      "outputs": [
        {
          "output_type": "stream",
          "name": "stdout",
          "text": [
            "Wireless      2999\n",
            "Earbuds       3999\n",
            "Smartphone    4999\n",
            "Laptop        5999\n",
            "Smartwatch    1999\n",
            "dtype: int64\n"
          ]
        }
      ]
    },
    {
      "cell_type": "code",
      "source": [
        "print('Mean: ',product_prices.mean())\n",
        "print('Sum: ',product_prices.sum())\n",
        "print('Maximum: ',product_prices.max())\n",
        "print('Minimum: ',product_prices.min())\n",
        "print('Standard deviation: ',product_prices.std())"
      ],
      "metadata": {
        "colab": {
          "base_uri": "https://localhost:8080/"
        },
        "id": "h4d1AomT2i7X",
        "outputId": "f0b13ead-69cc-4c1d-9444-e1c755ffffd0"
      },
      "execution_count": 97,
      "outputs": [
        {
          "output_type": "stream",
          "name": "stdout",
          "text": [
            "Mean:  3999.0\n",
            "Sum:  19995\n",
            "Maximum:  5999\n",
            "Minimum:  1999\n",
            "Standard deviation:  1581.1388300841897\n"
          ]
        }
      ]
    },
    {
      "cell_type": "code",
      "source": [
        "print('Head(First 3 Elements): \\n',product_prices.head(3))"
      ],
      "metadata": {
        "colab": {
          "base_uri": "https://localhost:8080/"
        },
        "id": "U-BR56b_3u8W",
        "outputId": "1593af37-57cd-4416-f869-4645bb046f26"
      },
      "execution_count": 98,
      "outputs": [
        {
          "output_type": "stream",
          "name": "stdout",
          "text": [
            "Head(First 3 Elements): \n",
            " Wireless      2999\n",
            "Earbuds       3999\n",
            "Smartphone    4999\n",
            "dtype: int64\n"
          ]
        }
      ]
    },
    {
      "cell_type": "code",
      "source": [
        "print('Tail(Last 2 Elements): \\n',product_prices.tail(2))"
      ],
      "metadata": {
        "colab": {
          "base_uri": "https://localhost:8080/"
        },
        "id": "B9c3joc935k2",
        "outputId": "8c60f545-ea39-4953-eaca-d913a7c3b6b4"
      },
      "execution_count": 99,
      "outputs": [
        {
          "output_type": "stream",
          "name": "stdout",
          "text": [
            "Tail(Last 2 Elements): \n",
            " Laptop        5999\n",
            "Smartwatch    1999\n",
            "dtype: int64\n"
          ]
        }
      ]
    },
    {
      "cell_type": "code",
      "source": [
        "print(\"Apply (Add 18% GST): \\n\",product_prices.apply(lambda x: f'₹{x + x*0.18:.2f}'))"
      ],
      "metadata": {
        "colab": {
          "base_uri": "https://localhost:8080/"
        },
        "id": "vPtITxCN4Cl2",
        "outputId": "dd5451d4-7183-48fe-b19a-96faaeee6a79"
      },
      "execution_count": 100,
      "outputs": [
        {
          "output_type": "stream",
          "name": "stdout",
          "text": [
            "Apply (Add 18% GST): \n",
            " Wireless      ₹3538.82\n",
            "Earbuds       ₹4718.82\n",
            "Smartphone    ₹5898.82\n",
            "Laptop        ₹7078.82\n",
            "Smartwatch    ₹2358.82\n",
            "dtype: object\n"
          ]
        }
      ]
    },
    {
      "cell_type": "code",
      "source": [
        "print(\"Map (Formatting as Currrency):\\n\",product_prices.map(lambda x: f'₹{x}.00'))"
      ],
      "metadata": {
        "colab": {
          "base_uri": "https://localhost:8080/"
        },
        "id": "bbXTjSag6KR_",
        "outputId": "525edd37-660a-4802-8ec1-49f04453275e"
      },
      "execution_count": 101,
      "outputs": [
        {
          "output_type": "stream",
          "name": "stdout",
          "text": [
            "Map (Formatting as Currrency):\n",
            " Wireless      ₹2999.00\n",
            "Earbuds       ₹3999.00\n",
            "Smartphone    ₹4999.00\n",
            "Laptop        ₹5999.00\n",
            "Smartwatch    ₹1999.00\n",
            "dtype: object\n"
          ]
        }
      ]
    },
    {
      "cell_type": "code",
      "source": [
        "print('Sort the values:\\n',product_prices.sort_values())"
      ],
      "metadata": {
        "colab": {
          "base_uri": "https://localhost:8080/"
        },
        "id": "I2DZKBK66ctp",
        "outputId": "b568e885-78b5-4f64-e740-88d70a4c8293"
      },
      "execution_count": 102,
      "outputs": [
        {
          "output_type": "stream",
          "name": "stdout",
          "text": [
            "Sort the values:\n",
            " Smartwatch    1999\n",
            "Wireless      2999\n",
            "Earbuds       3999\n",
            "Smartphone    4999\n",
            "Laptop        5999\n",
            "dtype: int64\n"
          ]
        }
      ]
    },
    {
      "cell_type": "code",
      "source": [
        "print('Sort the index:\\n',product_prices.sort_index())"
      ],
      "metadata": {
        "colab": {
          "base_uri": "https://localhost:8080/"
        },
        "id": "D244DlSF65bU",
        "outputId": "ebbd1092-3c0c-4dbf-c121-77c91cd8892d"
      },
      "execution_count": 103,
      "outputs": [
        {
          "output_type": "stream",
          "name": "stdout",
          "text": [
            "Sort the index:\n",
            " Earbuds       3999\n",
            "Laptop        5999\n",
            "Smartphone    4999\n",
            "Smartwatch    1999\n",
            "Wireless      2999\n",
            "dtype: int64\n"
          ]
        }
      ]
    },
    {
      "cell_type": "code",
      "source": [
        "print('Sort the values:\\n',product_prices.sort_values(ascending=False))"
      ],
      "metadata": {
        "colab": {
          "base_uri": "https://localhost:8080/"
        },
        "id": "9xEfKLjp7chY",
        "outputId": "fc0eb34b-6c7b-4354-9172-72d5d8c1808f"
      },
      "execution_count": 104,
      "outputs": [
        {
          "output_type": "stream",
          "name": "stdout",
          "text": [
            "Sort the values:\n",
            " Laptop        5999\n",
            "Smartphone    4999\n",
            "Earbuds       3999\n",
            "Wireless      2999\n",
            "Smartwatch    1999\n",
            "dtype: int64\n"
          ]
        }
      ]
    },
    {
      "cell_type": "code",
      "source": [
        "print('value counts:\\n',product_prices.value_counts())"
      ],
      "metadata": {
        "colab": {
          "base_uri": "https://localhost:8080/"
        },
        "id": "faXTNElZ7CB0",
        "outputId": "d47792d0-ce2c-4934-fda7-c6fde23ae235"
      },
      "execution_count": 105,
      "outputs": [
        {
          "output_type": "stream",
          "name": "stdout",
          "text": [
            "value counts:\n",
            " 2999    1\n",
            "3999    1\n",
            "4999    1\n",
            "5999    1\n",
            "1999    1\n",
            "Name: count, dtype: int64\n"
          ]
        }
      ]
    },
    {
      "cell_type": "code",
      "source": [
        "# Example: Product Details\n",
        "data = {\n",
        "\"Product\": [\"Wireless Earbuds\", \"Smartphone\", \"Laptop\",\n",
        "           \"Smartwatch\", \"Bluetooth Speaker\"],\n",
        "\"Brand\": [\"SoundMax\", \"TechNova\", \"ByteCore\", \"TimeTrack\",\n",
        "         \"EchoBoom\"],\n",
        "\"Price\": [2999, 15999, 52999, 4999, 1999],\n",
        "\"Stock\": [50, 30, 20, 40, 60],\n",
        "\"BestSeller\":[True,False,True,False,False]\n",
        "}\n",
        "df = pd.DataFrame(data)\n",
        "print(df)"
      ],
      "metadata": {
        "colab": {
          "base_uri": "https://localhost:8080/"
        },
        "id": "Hj33KAUv7oYK",
        "outputId": "b0e29a5c-f3b6-49c5-9c3b-f34fdf2cfce2"
      },
      "execution_count": 106,
      "outputs": [
        {
          "output_type": "stream",
          "name": "stdout",
          "text": [
            "             Product      Brand  Price  Stock  BestSeller\n",
            "0   Wireless Earbuds   SoundMax   2999     50        True\n",
            "1         Smartphone   TechNova  15999     30       False\n",
            "2             Laptop   ByteCore  52999     20        True\n",
            "3         Smartwatch  TimeTrack   4999     40       False\n",
            "4  Bluetooth Speaker   EchoBoom   1999     60       False\n"
          ]
        }
      ]
    },
    {
      "cell_type": "code",
      "source": [
        "print('Shape of DataFrame:',df.shape)"
      ],
      "metadata": {
        "colab": {
          "base_uri": "https://localhost:8080/"
        },
        "id": "doz0NTmA-s2_",
        "outputId": "9e70f825-9ba6-45bc-9421-6f06d21419f5"
      },
      "execution_count": 107,
      "outputs": [
        {
          "output_type": "stream",
          "name": "stdout",
          "text": [
            "Shape of DataFrame: (5, 5)\n"
          ]
        }
      ]
    },
    {
      "cell_type": "code",
      "source": [
        "print('Columns of the DataFrame: ',df.columns)"
      ],
      "metadata": {
        "colab": {
          "base_uri": "https://localhost:8080/"
        },
        "id": "VBy1X2a9-70J",
        "outputId": "1c8d4edd-9c77-4de2-f51a-216a5ac1c451"
      },
      "execution_count": 108,
      "outputs": [
        {
          "output_type": "stream",
          "name": "stdout",
          "text": [
            "Columns of the DataFrame:  Index(['Product', 'Brand', 'Price', 'Stock', 'BestSeller'], dtype='object')\n"
          ]
        }
      ]
    },
    {
      "cell_type": "code",
      "source": [
        "print('Index of the DataFrame: ',df.index)"
      ],
      "metadata": {
        "colab": {
          "base_uri": "https://localhost:8080/"
        },
        "id": "7mhaC15x_Phk",
        "outputId": "266b4fef-b892-41b6-da3e-7bfc02a9a2b1"
      },
      "execution_count": 109,
      "outputs": [
        {
          "output_type": "stream",
          "name": "stdout",
          "text": [
            "Index of the DataFrame:  RangeIndex(start=0, stop=5, step=1)\n"
          ]
        }
      ]
    },
    {
      "cell_type": "code",
      "source": [
        "print('Info about DataFrame: ',df.info())"
      ],
      "metadata": {
        "colab": {
          "base_uri": "https://localhost:8080/"
        },
        "id": "pjLV6nnX_WML",
        "outputId": "5e4526de-35d2-4dd7-f673-645a946870f6"
      },
      "execution_count": 110,
      "outputs": [
        {
          "output_type": "stream",
          "name": "stdout",
          "text": [
            "<class 'pandas.core.frame.DataFrame'>\n",
            "RangeIndex: 5 entries, 0 to 4\n",
            "Data columns (total 5 columns):\n",
            " #   Column      Non-Null Count  Dtype \n",
            "---  ------      --------------  ----- \n",
            " 0   Product     5 non-null      object\n",
            " 1   Brand       5 non-null      object\n",
            " 2   Price       5 non-null      int64 \n",
            " 3   Stock       5 non-null      int64 \n",
            " 4   BestSeller  5 non-null      bool  \n",
            "dtypes: bool(1), int64(2), object(2)\n",
            "memory usage: 297.0+ bytes\n",
            "Info about DataFrame:  None\n"
          ]
        }
      ]
    },
    {
      "cell_type": "code",
      "source": [
        "print('Statistical Description of DataFrame: ',df.describe())"
      ],
      "metadata": {
        "colab": {
          "base_uri": "https://localhost:8080/"
        },
        "id": "ukZU_tkV_ia8",
        "outputId": "6094ca05-7d73-490d-ef2a-748802cdf4dc"
      },
      "execution_count": 111,
      "outputs": [
        {
          "output_type": "stream",
          "name": "stdout",
          "text": [
            "Statistical Description of DataFrame:                Price      Stock\n",
            "count      5.000000   5.000000\n",
            "mean   15799.000000  40.000000\n",
            "std    21533.694527  15.811388\n",
            "min     1999.000000  20.000000\n",
            "25%     2999.000000  30.000000\n",
            "50%     4999.000000  40.000000\n",
            "75%    15999.000000  50.000000\n",
            "max    52999.000000  60.000000\n"
          ]
        }
      ]
    },
    {
      "cell_type": "code",
      "source": [
        "print('Head(First 2 rows):\\n',df.head(2))"
      ],
      "metadata": {
        "colab": {
          "base_uri": "https://localhost:8080/"
        },
        "id": "s_Q6AGxBAepd",
        "outputId": "ee835082-b837-4168-f337-620048c6d59c"
      },
      "execution_count": 112,
      "outputs": [
        {
          "output_type": "stream",
          "name": "stdout",
          "text": [
            "Head(First 2 rows):\n",
            "             Product     Brand  Price  Stock  BestSeller\n",
            "0  Wireless Earbuds  SoundMax   2999     50        True\n",
            "1        Smartphone  TechNova  15999     30       False\n"
          ]
        }
      ]
    },
    {
      "cell_type": "code",
      "source": [
        "print('Tail(Last 2 rows):\\n',df.tail(2))"
      ],
      "metadata": {
        "colab": {
          "base_uri": "https://localhost:8080/"
        },
        "id": "Oo60T3xgB6d4",
        "outputId": "c2577dda-2c30-4d30-b4d8-3b1f53607fe3"
      },
      "execution_count": 113,
      "outputs": [
        {
          "output_type": "stream",
          "name": "stdout",
          "text": [
            "Tail(Last 2 rows):\n",
            "              Product      Brand  Price  Stock  BestSeller\n",
            "3         Smartwatch  TimeTrack   4999     40       False\n",
            "4  Bluetooth Speaker   EchoBoom   1999     60       False\n"
          ]
        }
      ]
    },
    {
      "cell_type": "code",
      "source": [
        "df"
      ],
      "metadata": {
        "colab": {
          "base_uri": "https://localhost:8080/",
          "height": 206
        },
        "id": "W7ad2ZXiB_9-",
        "outputId": "aed055c1-11fa-4231-fb40-6072407411fd"
      },
      "execution_count": 114,
      "outputs": [
        {
          "output_type": "execute_result",
          "data": {
            "text/plain": [
              "             Product      Brand  Price  Stock  BestSeller\n",
              "0   Wireless Earbuds   SoundMax   2999     50        True\n",
              "1         Smartphone   TechNova  15999     30       False\n",
              "2             Laptop   ByteCore  52999     20        True\n",
              "3         Smartwatch  TimeTrack   4999     40       False\n",
              "4  Bluetooth Speaker   EchoBoom   1999     60       False"
            ],
            "text/html": [
              "\n",
              "  <div id=\"df-38bcbbe4-43cc-42ba-a9e9-7f55ec2c7648\" class=\"colab-df-container\">\n",
              "    <div>\n",
              "<style scoped>\n",
              "    .dataframe tbody tr th:only-of-type {\n",
              "        vertical-align: middle;\n",
              "    }\n",
              "\n",
              "    .dataframe tbody tr th {\n",
              "        vertical-align: top;\n",
              "    }\n",
              "\n",
              "    .dataframe thead th {\n",
              "        text-align: right;\n",
              "    }\n",
              "</style>\n",
              "<table border=\"1\" class=\"dataframe\">\n",
              "  <thead>\n",
              "    <tr style=\"text-align: right;\">\n",
              "      <th></th>\n",
              "      <th>Product</th>\n",
              "      <th>Brand</th>\n",
              "      <th>Price</th>\n",
              "      <th>Stock</th>\n",
              "      <th>BestSeller</th>\n",
              "    </tr>\n",
              "  </thead>\n",
              "  <tbody>\n",
              "    <tr>\n",
              "      <th>0</th>\n",
              "      <td>Wireless Earbuds</td>\n",
              "      <td>SoundMax</td>\n",
              "      <td>2999</td>\n",
              "      <td>50</td>\n",
              "      <td>True</td>\n",
              "    </tr>\n",
              "    <tr>\n",
              "      <th>1</th>\n",
              "      <td>Smartphone</td>\n",
              "      <td>TechNova</td>\n",
              "      <td>15999</td>\n",
              "      <td>30</td>\n",
              "      <td>False</td>\n",
              "    </tr>\n",
              "    <tr>\n",
              "      <th>2</th>\n",
              "      <td>Laptop</td>\n",
              "      <td>ByteCore</td>\n",
              "      <td>52999</td>\n",
              "      <td>20</td>\n",
              "      <td>True</td>\n",
              "    </tr>\n",
              "    <tr>\n",
              "      <th>3</th>\n",
              "      <td>Smartwatch</td>\n",
              "      <td>TimeTrack</td>\n",
              "      <td>4999</td>\n",
              "      <td>40</td>\n",
              "      <td>False</td>\n",
              "    </tr>\n",
              "    <tr>\n",
              "      <th>4</th>\n",
              "      <td>Bluetooth Speaker</td>\n",
              "      <td>EchoBoom</td>\n",
              "      <td>1999</td>\n",
              "      <td>60</td>\n",
              "      <td>False</td>\n",
              "    </tr>\n",
              "  </tbody>\n",
              "</table>\n",
              "</div>\n",
              "    <div class=\"colab-df-buttons\">\n",
              "\n",
              "  <div class=\"colab-df-container\">\n",
              "    <button class=\"colab-df-convert\" onclick=\"convertToInteractive('df-38bcbbe4-43cc-42ba-a9e9-7f55ec2c7648')\"\n",
              "            title=\"Convert this dataframe to an interactive table.\"\n",
              "            style=\"display:none;\">\n",
              "\n",
              "  <svg xmlns=\"http://www.w3.org/2000/svg\" height=\"24px\" viewBox=\"0 -960 960 960\">\n",
              "    <path d=\"M120-120v-720h720v720H120Zm60-500h600v-160H180v160Zm220 220h160v-160H400v160Zm0 220h160v-160H400v160ZM180-400h160v-160H180v160Zm440 0h160v-160H620v160ZM180-180h160v-160H180v160Zm440 0h160v-160H620v160Z\"/>\n",
              "  </svg>\n",
              "    </button>\n",
              "\n",
              "  <style>\n",
              "    .colab-df-container {\n",
              "      display:flex;\n",
              "      gap: 12px;\n",
              "    }\n",
              "\n",
              "    .colab-df-convert {\n",
              "      background-color: #E8F0FE;\n",
              "      border: none;\n",
              "      border-radius: 50%;\n",
              "      cursor: pointer;\n",
              "      display: none;\n",
              "      fill: #1967D2;\n",
              "      height: 32px;\n",
              "      padding: 0 0 0 0;\n",
              "      width: 32px;\n",
              "    }\n",
              "\n",
              "    .colab-df-convert:hover {\n",
              "      background-color: #E2EBFA;\n",
              "      box-shadow: 0px 1px 2px rgba(60, 64, 67, 0.3), 0px 1px 3px 1px rgba(60, 64, 67, 0.15);\n",
              "      fill: #174EA6;\n",
              "    }\n",
              "\n",
              "    .colab-df-buttons div {\n",
              "      margin-bottom: 4px;\n",
              "    }\n",
              "\n",
              "    [theme=dark] .colab-df-convert {\n",
              "      background-color: #3B4455;\n",
              "      fill: #D2E3FC;\n",
              "    }\n",
              "\n",
              "    [theme=dark] .colab-df-convert:hover {\n",
              "      background-color: #434B5C;\n",
              "      box-shadow: 0px 1px 3px 1px rgba(0, 0, 0, 0.15);\n",
              "      filter: drop-shadow(0px 1px 2px rgba(0, 0, 0, 0.3));\n",
              "      fill: #FFFFFF;\n",
              "    }\n",
              "  </style>\n",
              "\n",
              "    <script>\n",
              "      const buttonEl =\n",
              "        document.querySelector('#df-38bcbbe4-43cc-42ba-a9e9-7f55ec2c7648 button.colab-df-convert');\n",
              "      buttonEl.style.display =\n",
              "        google.colab.kernel.accessAllowed ? 'block' : 'none';\n",
              "\n",
              "      async function convertToInteractive(key) {\n",
              "        const element = document.querySelector('#df-38bcbbe4-43cc-42ba-a9e9-7f55ec2c7648');\n",
              "        const dataTable =\n",
              "          await google.colab.kernel.invokeFunction('convertToInteractive',\n",
              "                                                    [key], {});\n",
              "        if (!dataTable) return;\n",
              "\n",
              "        const docLinkHtml = 'Like what you see? Visit the ' +\n",
              "          '<a target=\"_blank\" href=https://colab.research.google.com/notebooks/data_table.ipynb>data table notebook</a>'\n",
              "          + ' to learn more about interactive tables.';\n",
              "        element.innerHTML = '';\n",
              "        dataTable['output_type'] = 'display_data';\n",
              "        await google.colab.output.renderOutput(dataTable, element);\n",
              "        const docLink = document.createElement('div');\n",
              "        docLink.innerHTML = docLinkHtml;\n",
              "        element.appendChild(docLink);\n",
              "      }\n",
              "    </script>\n",
              "  </div>\n",
              "\n",
              "\n",
              "    <div id=\"df-cef51515-2797-4874-b9eb-143e9c53b75e\">\n",
              "      <button class=\"colab-df-quickchart\" onclick=\"quickchart('df-cef51515-2797-4874-b9eb-143e9c53b75e')\"\n",
              "                title=\"Suggest charts\"\n",
              "                style=\"display:none;\">\n",
              "\n",
              "<svg xmlns=\"http://www.w3.org/2000/svg\" height=\"24px\"viewBox=\"0 0 24 24\"\n",
              "     width=\"24px\">\n",
              "    <g>\n",
              "        <path d=\"M19 3H5c-1.1 0-2 .9-2 2v14c0 1.1.9 2 2 2h14c1.1 0 2-.9 2-2V5c0-1.1-.9-2-2-2zM9 17H7v-7h2v7zm4 0h-2V7h2v10zm4 0h-2v-4h2v4z\"/>\n",
              "    </g>\n",
              "</svg>\n",
              "      </button>\n",
              "\n",
              "<style>\n",
              "  .colab-df-quickchart {\n",
              "      --bg-color: #E8F0FE;\n",
              "      --fill-color: #1967D2;\n",
              "      --hover-bg-color: #E2EBFA;\n",
              "      --hover-fill-color: #174EA6;\n",
              "      --disabled-fill-color: #AAA;\n",
              "      --disabled-bg-color: #DDD;\n",
              "  }\n",
              "\n",
              "  [theme=dark] .colab-df-quickchart {\n",
              "      --bg-color: #3B4455;\n",
              "      --fill-color: #D2E3FC;\n",
              "      --hover-bg-color: #434B5C;\n",
              "      --hover-fill-color: #FFFFFF;\n",
              "      --disabled-bg-color: #3B4455;\n",
              "      --disabled-fill-color: #666;\n",
              "  }\n",
              "\n",
              "  .colab-df-quickchart {\n",
              "    background-color: var(--bg-color);\n",
              "    border: none;\n",
              "    border-radius: 50%;\n",
              "    cursor: pointer;\n",
              "    display: none;\n",
              "    fill: var(--fill-color);\n",
              "    height: 32px;\n",
              "    padding: 0;\n",
              "    width: 32px;\n",
              "  }\n",
              "\n",
              "  .colab-df-quickchart:hover {\n",
              "    background-color: var(--hover-bg-color);\n",
              "    box-shadow: 0 1px 2px rgba(60, 64, 67, 0.3), 0 1px 3px 1px rgba(60, 64, 67, 0.15);\n",
              "    fill: var(--button-hover-fill-color);\n",
              "  }\n",
              "\n",
              "  .colab-df-quickchart-complete:disabled,\n",
              "  .colab-df-quickchart-complete:disabled:hover {\n",
              "    background-color: var(--disabled-bg-color);\n",
              "    fill: var(--disabled-fill-color);\n",
              "    box-shadow: none;\n",
              "  }\n",
              "\n",
              "  .colab-df-spinner {\n",
              "    border: 2px solid var(--fill-color);\n",
              "    border-color: transparent;\n",
              "    border-bottom-color: var(--fill-color);\n",
              "    animation:\n",
              "      spin 1s steps(1) infinite;\n",
              "  }\n",
              "\n",
              "  @keyframes spin {\n",
              "    0% {\n",
              "      border-color: transparent;\n",
              "      border-bottom-color: var(--fill-color);\n",
              "      border-left-color: var(--fill-color);\n",
              "    }\n",
              "    20% {\n",
              "      border-color: transparent;\n",
              "      border-left-color: var(--fill-color);\n",
              "      border-top-color: var(--fill-color);\n",
              "    }\n",
              "    30% {\n",
              "      border-color: transparent;\n",
              "      border-left-color: var(--fill-color);\n",
              "      border-top-color: var(--fill-color);\n",
              "      border-right-color: var(--fill-color);\n",
              "    }\n",
              "    40% {\n",
              "      border-color: transparent;\n",
              "      border-right-color: var(--fill-color);\n",
              "      border-top-color: var(--fill-color);\n",
              "    }\n",
              "    60% {\n",
              "      border-color: transparent;\n",
              "      border-right-color: var(--fill-color);\n",
              "    }\n",
              "    80% {\n",
              "      border-color: transparent;\n",
              "      border-right-color: var(--fill-color);\n",
              "      border-bottom-color: var(--fill-color);\n",
              "    }\n",
              "    90% {\n",
              "      border-color: transparent;\n",
              "      border-bottom-color: var(--fill-color);\n",
              "    }\n",
              "  }\n",
              "</style>\n",
              "\n",
              "      <script>\n",
              "        async function quickchart(key) {\n",
              "          const quickchartButtonEl =\n",
              "            document.querySelector('#' + key + ' button');\n",
              "          quickchartButtonEl.disabled = true;  // To prevent multiple clicks.\n",
              "          quickchartButtonEl.classList.add('colab-df-spinner');\n",
              "          try {\n",
              "            const charts = await google.colab.kernel.invokeFunction(\n",
              "                'suggestCharts', [key], {});\n",
              "          } catch (error) {\n",
              "            console.error('Error during call to suggestCharts:', error);\n",
              "          }\n",
              "          quickchartButtonEl.classList.remove('colab-df-spinner');\n",
              "          quickchartButtonEl.classList.add('colab-df-quickchart-complete');\n",
              "        }\n",
              "        (() => {\n",
              "          let quickchartButtonEl =\n",
              "            document.querySelector('#df-cef51515-2797-4874-b9eb-143e9c53b75e button');\n",
              "          quickchartButtonEl.style.display =\n",
              "            google.colab.kernel.accessAllowed ? 'block' : 'none';\n",
              "        })();\n",
              "      </script>\n",
              "    </div>\n",
              "\n",
              "  <div id=\"id_d45b778d-c50e-4bec-96d7-6974f05185a7\">\n",
              "    <style>\n",
              "      .colab-df-generate {\n",
              "        background-color: #E8F0FE;\n",
              "        border: none;\n",
              "        border-radius: 50%;\n",
              "        cursor: pointer;\n",
              "        display: none;\n",
              "        fill: #1967D2;\n",
              "        height: 32px;\n",
              "        padding: 0 0 0 0;\n",
              "        width: 32px;\n",
              "      }\n",
              "\n",
              "      .colab-df-generate:hover {\n",
              "        background-color: #E2EBFA;\n",
              "        box-shadow: 0px 1px 2px rgba(60, 64, 67, 0.3), 0px 1px 3px 1px rgba(60, 64, 67, 0.15);\n",
              "        fill: #174EA6;\n",
              "      }\n",
              "\n",
              "      [theme=dark] .colab-df-generate {\n",
              "        background-color: #3B4455;\n",
              "        fill: #D2E3FC;\n",
              "      }\n",
              "\n",
              "      [theme=dark] .colab-df-generate:hover {\n",
              "        background-color: #434B5C;\n",
              "        box-shadow: 0px 1px 3px 1px rgba(0, 0, 0, 0.15);\n",
              "        filter: drop-shadow(0px 1px 2px rgba(0, 0, 0, 0.3));\n",
              "        fill: #FFFFFF;\n",
              "      }\n",
              "    </style>\n",
              "    <button class=\"colab-df-generate\" onclick=\"generateWithVariable('df')\"\n",
              "            title=\"Generate code using this dataframe.\"\n",
              "            style=\"display:none;\">\n",
              "\n",
              "  <svg xmlns=\"http://www.w3.org/2000/svg\" height=\"24px\"viewBox=\"0 0 24 24\"\n",
              "       width=\"24px\">\n",
              "    <path d=\"M7,19H8.4L18.45,9,17,7.55,7,17.6ZM5,21V16.75L18.45,3.32a2,2,0,0,1,2.83,0l1.4,1.43a1.91,1.91,0,0,1,.58,1.4,1.91,1.91,0,0,1-.58,1.4L9.25,21ZM18.45,9,17,7.55Zm-12,3A5.31,5.31,0,0,0,4.9,8.1,5.31,5.31,0,0,0,1,6.5,5.31,5.31,0,0,0,4.9,4.9,5.31,5.31,0,0,0,6.5,1,5.31,5.31,0,0,0,8.1,4.9,5.31,5.31,0,0,0,12,6.5,5.46,5.46,0,0,0,6.5,12Z\"/>\n",
              "  </svg>\n",
              "    </button>\n",
              "    <script>\n",
              "      (() => {\n",
              "      const buttonEl =\n",
              "        document.querySelector('#id_d45b778d-c50e-4bec-96d7-6974f05185a7 button.colab-df-generate');\n",
              "      buttonEl.style.display =\n",
              "        google.colab.kernel.accessAllowed ? 'block' : 'none';\n",
              "\n",
              "      buttonEl.onclick = () => {\n",
              "        google.colab.notebook.generateWithVariable('df');\n",
              "      }\n",
              "      })();\n",
              "    </script>\n",
              "  </div>\n",
              "\n",
              "    </div>\n",
              "  </div>\n"
            ],
            "application/vnd.google.colaboratory.intrinsic+json": {
              "type": "dataframe",
              "variable_name": "df",
              "summary": "{\n  \"name\": \"df\",\n  \"rows\": 5,\n  \"fields\": [\n    {\n      \"column\": \"Product\",\n      \"properties\": {\n        \"dtype\": \"string\",\n        \"num_unique_values\": 5,\n        \"samples\": [\n          \"Smartphone\",\n          \"Bluetooth Speaker\",\n          \"Laptop\"\n        ],\n        \"semantic_type\": \"\",\n        \"description\": \"\"\n      }\n    },\n    {\n      \"column\": \"Brand\",\n      \"properties\": {\n        \"dtype\": \"string\",\n        \"num_unique_values\": 5,\n        \"samples\": [\n          \"TechNova\",\n          \"EchoBoom\",\n          \"ByteCore\"\n        ],\n        \"semantic_type\": \"\",\n        \"description\": \"\"\n      }\n    },\n    {\n      \"column\": \"Price\",\n      \"properties\": {\n        \"dtype\": \"number\",\n        \"std\": 21533,\n        \"min\": 1999,\n        \"max\": 52999,\n        \"num_unique_values\": 5,\n        \"samples\": [\n          15999,\n          1999,\n          52999\n        ],\n        \"semantic_type\": \"\",\n        \"description\": \"\"\n      }\n    },\n    {\n      \"column\": \"Stock\",\n      \"properties\": {\n        \"dtype\": \"number\",\n        \"std\": 15,\n        \"min\": 20,\n        \"max\": 60,\n        \"num_unique_values\": 5,\n        \"samples\": [\n          30,\n          60,\n          20\n        ],\n        \"semantic_type\": \"\",\n        \"description\": \"\"\n      }\n    },\n    {\n      \"column\": \"BestSeller\",\n      \"properties\": {\n        \"dtype\": \"boolean\",\n        \"num_unique_values\": 2,\n        \"samples\": [\n          false,\n          true\n        ],\n        \"semantic_type\": \"\",\n        \"description\": \"\"\n      }\n    }\n  ]\n}"
            }
          },
          "metadata": {},
          "execution_count": 114
        }
      ]
    },
    {
      "cell_type": "code",
      "source": [
        "print(df.loc[1,'Product']) #first is row and second is col 'label'\n",
        "print(df.loc[4,'Product'])\n",
        "print(df.loc[1,'Stock'])"
      ],
      "metadata": {
        "colab": {
          "base_uri": "https://localhost:8080/"
        },
        "id": "9VN0IJmGCPqi",
        "outputId": "9efabe69-9970-4836-a2a5-447b54dc984e"
      },
      "execution_count": 115,
      "outputs": [
        {
          "output_type": "stream",
          "name": "stdout",
          "text": [
            "Smartphone\n",
            "Bluetooth Speaker\n",
            "30\n"
          ]
        }
      ]
    },
    {
      "cell_type": "code",
      "source": [
        "print(df.iloc[1,1]) #first is col and second is row\n",
        "print(df.iloc[4,1])\n",
        "print(df.iloc[1,3])"
      ],
      "metadata": {
        "colab": {
          "base_uri": "https://localhost:8080/"
        },
        "id": "oyr6_hsSCy6d",
        "outputId": "6bc4accf-33c1-4174-bd8d-5016db66fd87"
      },
      "execution_count": 116,
      "outputs": [
        {
          "output_type": "stream",
          "name": "stdout",
          "text": [
            "TechNova\n",
            "EchoBoom\n",
            "30\n"
          ]
        }
      ]
    },
    {
      "cell_type": "code",
      "source": [
        "print(df.iloc[4]) #it gives the entire 4 col"
      ],
      "metadata": {
        "colab": {
          "base_uri": "https://localhost:8080/"
        },
        "id": "HGS7x0X0DdzV",
        "outputId": "e493da42-ae88-429a-b148-8e0b2516d609"
      },
      "execution_count": 117,
      "outputs": [
        {
          "output_type": "stream",
          "name": "stdout",
          "text": [
            "Product       Bluetooth Speaker\n",
            "Brand                  EchoBoom\n",
            "Price                      1999\n",
            "Stock                        60\n",
            "BestSeller                False\n",
            "Name: 4, dtype: object\n"
          ]
        }
      ]
    },
    {
      "cell_type": "code",
      "source": [
        "print(df.loc[4]) #it gives the entire 4 row"
      ],
      "metadata": {
        "colab": {
          "base_uri": "https://localhost:8080/"
        },
        "id": "OKLblK-KEYNo",
        "outputId": "43cf5937-22fd-4111-8b86-23bc0eacbd17"
      },
      "execution_count": 118,
      "outputs": [
        {
          "output_type": "stream",
          "name": "stdout",
          "text": [
            "Product       Bluetooth Speaker\n",
            "Brand                  EchoBoom\n",
            "Price                      1999\n",
            "Stock                        60\n",
            "BestSeller                False\n",
            "Name: 4, dtype: object\n"
          ]
        }
      ]
    },
    {
      "cell_type": "code",
      "source": [
        "print(df,'\\n')\n",
        "print(\"Using loc(Selecting 'smartwatch' row): \\n\",df.loc[df['Price']<5000],'\\n')\n",
        "print(\"Using loc(Selecting 'BestSeller' row): \\n\",df.loc[df['BestSeller']==True],'\\n')\n",
        "print(\"Using loc(Selecting 'Stock' row): \\n\",df.loc[df['Stock']>40])"
      ],
      "metadata": {
        "colab": {
          "base_uri": "https://localhost:8080/"
        },
        "id": "PGBRDNFAEpAa",
        "outputId": "de73e2ae-bd0d-4509-c245-05427ae78894"
      },
      "execution_count": 119,
      "outputs": [
        {
          "output_type": "stream",
          "name": "stdout",
          "text": [
            "             Product      Brand  Price  Stock  BestSeller\n",
            "0   Wireless Earbuds   SoundMax   2999     50        True\n",
            "1         Smartphone   TechNova  15999     30       False\n",
            "2             Laptop   ByteCore  52999     20        True\n",
            "3         Smartwatch  TimeTrack   4999     40       False\n",
            "4  Bluetooth Speaker   EchoBoom   1999     60       False \n",
            "\n",
            "Using loc(Selecting 'smartwatch' row): \n",
            "              Product      Brand  Price  Stock  BestSeller\n",
            "0   Wireless Earbuds   SoundMax   2999     50        True\n",
            "3         Smartwatch  TimeTrack   4999     40       False\n",
            "4  Bluetooth Speaker   EchoBoom   1999     60       False \n",
            "\n",
            "Using loc(Selecting 'BestSeller' row): \n",
            "             Product     Brand  Price  Stock  BestSeller\n",
            "0  Wireless Earbuds  SoundMax   2999     50        True\n",
            "2            Laptop  ByteCore  52999     20        True \n",
            "\n",
            "Using loc(Selecting 'Stock' row): \n",
            "              Product     Brand  Price  Stock  BestSeller\n",
            "0   Wireless Earbuds  SoundMax   2999     50        True\n",
            "4  Bluetooth Speaker  EchoBoom   1999     60       False\n"
          ]
        }
      ]
    },
    {
      "cell_type": "code",
      "source": [
        "print(\"Before df:\",df)\n",
        "df_dropped = df.drop(columns=[\"Stock\"])\n",
        "print(\"After Dropping 'Stock' Column:\\n\", df_dropped)\n",
        "print(\"After df:\",df)"
      ],
      "metadata": {
        "colab": {
          "base_uri": "https://localhost:8080/"
        },
        "id": "beA1bzZfJFvZ",
        "outputId": "6fe05239-f733-4ca6-84c8-5043bde2afde"
      },
      "execution_count": 120,
      "outputs": [
        {
          "output_type": "stream",
          "name": "stdout",
          "text": [
            "Before df:              Product      Brand  Price  Stock  BestSeller\n",
            "0   Wireless Earbuds   SoundMax   2999     50        True\n",
            "1         Smartphone   TechNova  15999     30       False\n",
            "2             Laptop   ByteCore  52999     20        True\n",
            "3         Smartwatch  TimeTrack   4999     40       False\n",
            "4  Bluetooth Speaker   EchoBoom   1999     60       False\n",
            "After Dropping 'Stock' Column:\n",
            "              Product      Brand  Price  BestSeller\n",
            "0   Wireless Earbuds   SoundMax   2999        True\n",
            "1         Smartphone   TechNova  15999       False\n",
            "2             Laptop   ByteCore  52999        True\n",
            "3         Smartwatch  TimeTrack   4999       False\n",
            "4  Bluetooth Speaker   EchoBoom   1999       False\n",
            "After df:              Product      Brand  Price  Stock  BestSeller\n",
            "0   Wireless Earbuds   SoundMax   2999     50        True\n",
            "1         Smartphone   TechNova  15999     30       False\n",
            "2             Laptop   ByteCore  52999     20        True\n",
            "3         Smartwatch  TimeTrack   4999     40       False\n",
            "4  Bluetooth Speaker   EchoBoom   1999     60       False\n"
          ]
        }
      ]
    },
    {
      "cell_type": "code",
      "source": [
        "df_renamed = df.rename(columns={\"Price\": \"Cost\"})\n",
        "print(\"After Renaming 'Price' to 'Cost':\\n\", df_renamed)\n",
        "df.rename(columns={\"Product name\": \"Product\"}, inplace=True)\n",
        "print(df)"
      ],
      "metadata": {
        "colab": {
          "base_uri": "https://localhost:8080/"
        },
        "id": "KS17uf4tJ-lY",
        "outputId": "c610e00f-ff78-42f4-8223-868dbe658698"
      },
      "execution_count": 121,
      "outputs": [
        {
          "output_type": "stream",
          "name": "stdout",
          "text": [
            "After Renaming 'Price' to 'Cost':\n",
            "              Product      Brand   Cost  Stock  BestSeller\n",
            "0   Wireless Earbuds   SoundMax   2999     50        True\n",
            "1         Smartphone   TechNova  15999     30       False\n",
            "2             Laptop   ByteCore  52999     20        True\n",
            "3         Smartwatch  TimeTrack   4999     40       False\n",
            "4  Bluetooth Speaker   EchoBoom   1999     60       False\n",
            "             Product      Brand  Price  Stock  BestSeller\n",
            "0   Wireless Earbuds   SoundMax   2999     50        True\n",
            "1         Smartphone   TechNova  15999     30       False\n",
            "2             Laptop   ByteCore  52999     20        True\n",
            "3         Smartwatch  TimeTrack   4999     40       False\n",
            "4  Bluetooth Speaker   EchoBoom   1999     60       False\n"
          ]
        }
      ]
    },
    {
      "cell_type": "code",
      "source": [
        "df_grouped = df.groupby(\"Brand\").agg({\"Price\": \"sum\", \"Stock\": \"sum\"})\n",
        "print(df_grouped)"
      ],
      "metadata": {
        "colab": {
          "base_uri": "https://localhost:8080/"
        },
        "id": "0YvKS3GNKDBY",
        "outputId": "f0d27dd5-6bd3-4fe8-834a-a5b0c75bc393"
      },
      "execution_count": 122,
      "outputs": [
        {
          "output_type": "stream",
          "name": "stdout",
          "text": [
            "           Price  Stock\n",
            "Brand                  \n",
            "ByteCore   52999     20\n",
            "EchoBoom    1999     60\n",
            "SoundMax    2999     50\n",
            "TechNova   15999     30\n",
            "TimeTrack   4999     40\n"
          ]
        }
      ]
    },
    {
      "cell_type": "code",
      "source": [
        "grouped=df.groupby(\"Brand\").agg({\"Price\": [\"mean\", \"max\", \"min\"]})\n",
        "print(grouped)"
      ],
      "metadata": {
        "colab": {
          "base_uri": "https://localhost:8080/"
        },
        "id": "bzQH0wt_KHIA",
        "outputId": "93009bbd-be69-49ea-c34d-dff9af28d49a"
      },
      "execution_count": 123,
      "outputs": [
        {
          "output_type": "stream",
          "name": "stdout",
          "text": [
            "             Price              \n",
            "              mean    max    min\n",
            "Brand                           \n",
            "ByteCore   52999.0  52999  52999\n",
            "EchoBoom    1999.0   1999   1999\n",
            "SoundMax    2999.0   2999   2999\n",
            "TechNova   15999.0  15999  15999\n",
            "TimeTrack   4999.0   4999   4999\n"
          ]
        }
      ]
    },
    {
      "cell_type": "code",
      "source": [
        "data2 = {\n",
        "    \"Brand\": [\"SoundMax\", \"TechNova\", \"ByteCore\", \"TimeTrack\", \"EchoBoom\"],\n",
        "    \"Rating\": [4.2, 4.5, 4.0, 4.1, 3.9],\n",
        "    'discount':[28,40,16,10,5]\n",
        "}\n",
        "df_ratings = pd.DataFrame(data2)\n",
        "print(df_ratings)"
      ],
      "metadata": {
        "colab": {
          "base_uri": "https://localhost:8080/"
        },
        "id": "-2nb9cH5KJrg",
        "outputId": "a126612f-601a-4485-caf7-c19a5ea3ad67"
      },
      "execution_count": 124,
      "outputs": [
        {
          "output_type": "stream",
          "name": "stdout",
          "text": [
            "       Brand  Rating  discount\n",
            "0   SoundMax     4.2        28\n",
            "1   TechNova     4.5        40\n",
            "2   ByteCore     4.0        16\n",
            "3  TimeTrack     4.1        10\n",
            "4   EchoBoom     3.9         5\n"
          ]
        }
      ]
    },
    {
      "cell_type": "code",
      "source": [
        "df_merged = df.merge(df_ratings, on=\"Brand\")\n",
        "print(\"Merged DataFrame (Adding Ratings):\\n\", df_merged)"
      ],
      "metadata": {
        "colab": {
          "base_uri": "https://localhost:8080/"
        },
        "id": "aQ_xiggIKKq4",
        "outputId": "e72900fb-f30a-4f13-ebc8-492a519dc8d2"
      },
      "execution_count": 125,
      "outputs": [
        {
          "output_type": "stream",
          "name": "stdout",
          "text": [
            "Merged DataFrame (Adding Ratings):\n",
            "              Product      Brand  Price  Stock  BestSeller  Rating  discount\n",
            "0   Wireless Earbuds   SoundMax   2999     50        True     4.2        28\n",
            "1         Smartphone   TechNova  15999     30       False     4.5        40\n",
            "2             Laptop   ByteCore  52999     20        True     4.0        16\n",
            "3         Smartwatch  TimeTrack   4999     40       False     4.1        10\n",
            "4  Bluetooth Speaker   EchoBoom   1999     60       False     3.9         5\n"
          ]
        }
      ]
    },
    {
      "cell_type": "code",
      "source": [
        "new_data = {\n",
        "    \"Product\": [\"Tablet\"],\n",
        "    \"Brand\": [\"SmartWare\"],\n",
        "    \"Price\": [12999],\n",
        "    \"Stock\": [25],\n",
        "    \"BestSeller\":[True]\n",
        "}\n",
        "df_new = pd.DataFrame(new_data)\n",
        "print(df_new)"
      ],
      "metadata": {
        "colab": {
          "base_uri": "https://localhost:8080/"
        },
        "id": "ylvsV1WMKOew",
        "outputId": "ff5dc947-6c64-4696-c4d2-9b0365569018"
      },
      "execution_count": 126,
      "outputs": [
        {
          "output_type": "stream",
          "name": "stdout",
          "text": [
            "  Product      Brand  Price  Stock  BestSeller\n",
            "0  Tablet  SmartWare  12999     25        True\n"
          ]
        }
      ]
    },
    {
      "cell_type": "code",
      "source": [
        "df_concat = pd.concat([df, df_new], ignore_index=True)\n",
        "print(\"Concatenated DataFrame:\\n\", df_concat)"
      ],
      "metadata": {
        "colab": {
          "base_uri": "https://localhost:8080/"
        },
        "id": "Xi5j_slBKRCY",
        "outputId": "c095040e-c85a-421c-f2a6-50496606a4ff"
      },
      "execution_count": 127,
      "outputs": [
        {
          "output_type": "stream",
          "name": "stdout",
          "text": [
            "Concatenated DataFrame:\n",
            "              Product      Brand  Price  Stock  BestSeller\n",
            "0   Wireless Earbuds   SoundMax   2999     50        True\n",
            "1         Smartphone   TechNova  15999     30       False\n",
            "2             Laptop   ByteCore  52999     20        True\n",
            "3         Smartwatch  TimeTrack   4999     40       False\n",
            "4  Bluetooth Speaker   EchoBoom   1999     60       False\n",
            "5             Tablet  SmartWare  12999     25        True\n"
          ]
        }
      ]
    },
    {
      "cell_type": "code",
      "source": [
        "print(df[\"Product\"])"
      ],
      "metadata": {
        "colab": {
          "base_uri": "https://localhost:8080/"
        },
        "id": "B0JjbyH1KTcY",
        "outputId": "4fea2579-5ef9-46db-ea6b-a5488a4582ed"
      },
      "execution_count": 128,
      "outputs": [
        {
          "output_type": "stream",
          "name": "stdout",
          "text": [
            "0     Wireless Earbuds\n",
            "1           Smartphone\n",
            "2               Laptop\n",
            "3           Smartwatch\n",
            "4    Bluetooth Speaker\n",
            "Name: Product, dtype: object\n"
          ]
        }
      ]
    },
    {
      "cell_type": "code",
      "source": [
        "print(df[[\"Product\", \"Price\",\"Stock\"]])"
      ],
      "metadata": {
        "colab": {
          "base_uri": "https://localhost:8080/"
        },
        "id": "I2joL194KVgJ",
        "outputId": "72ff5260-ca97-4b36-b5c7-05c2da78964e"
      },
      "execution_count": 129,
      "outputs": [
        {
          "output_type": "stream",
          "name": "stdout",
          "text": [
            "             Product  Price  Stock\n",
            "0   Wireless Earbuds   2999     50\n",
            "1         Smartphone  15999     30\n",
            "2             Laptop  52999     20\n",
            "3         Smartwatch   4999     40\n",
            "4  Bluetooth Speaker   1999     60\n"
          ]
        }
      ]
    },
    {
      "cell_type": "code",
      "source": [
        "df[\"Price\"] = df[\"Price\"].astype(float)\n",
        "print(df)"
      ],
      "metadata": {
        "colab": {
          "base_uri": "https://localhost:8080/"
        },
        "id": "2-HdwQFGKXYR",
        "outputId": "c302856e-4485-441c-828d-19dcd8bec4dd"
      },
      "execution_count": 130,
      "outputs": [
        {
          "output_type": "stream",
          "name": "stdout",
          "text": [
            "             Product      Brand    Price  Stock  BestSeller\n",
            "0   Wireless Earbuds   SoundMax   2999.0     50        True\n",
            "1         Smartphone   TechNova  15999.0     30       False\n",
            "2             Laptop   ByteCore  52999.0     20        True\n",
            "3         Smartwatch  TimeTrack   4999.0     40       False\n",
            "4  Bluetooth Speaker   EchoBoom   1999.0     60       False\n"
          ]
        }
      ]
    },
    {
      "cell_type": "code",
      "source": [
        "df[\"Rank\"] = df[\"Price\"].rank(ascending=False)\n",
        "print(df)\n",
        "print(df.sort_values(by=\"Rank\", ascending=True))\n",
        "print(df.sort_values(by=\"Rank\", ascending=False))"
      ],
      "metadata": {
        "colab": {
          "base_uri": "https://localhost:8080/"
        },
        "id": "4Bp15v82KZSJ",
        "outputId": "adb844eb-a9aa-47c4-c2f3-45a8d3feaee6"
      },
      "execution_count": 131,
      "outputs": [
        {
          "output_type": "stream",
          "name": "stdout",
          "text": [
            "             Product      Brand    Price  Stock  BestSeller  Rank\n",
            "0   Wireless Earbuds   SoundMax   2999.0     50        True   4.0\n",
            "1         Smartphone   TechNova  15999.0     30       False   2.0\n",
            "2             Laptop   ByteCore  52999.0     20        True   1.0\n",
            "3         Smartwatch  TimeTrack   4999.0     40       False   3.0\n",
            "4  Bluetooth Speaker   EchoBoom   1999.0     60       False   5.0\n",
            "             Product      Brand    Price  Stock  BestSeller  Rank\n",
            "2             Laptop   ByteCore  52999.0     20        True   1.0\n",
            "1         Smartphone   TechNova  15999.0     30       False   2.0\n",
            "3         Smartwatch  TimeTrack   4999.0     40       False   3.0\n",
            "0   Wireless Earbuds   SoundMax   2999.0     50        True   4.0\n",
            "4  Bluetooth Speaker   EchoBoom   1999.0     60       False   5.0\n",
            "             Product      Brand    Price  Stock  BestSeller  Rank\n",
            "4  Bluetooth Speaker   EchoBoom   1999.0     60       False   5.0\n",
            "0   Wireless Earbuds   SoundMax   2999.0     50        True   4.0\n",
            "3         Smartwatch  TimeTrack   4999.0     40       False   3.0\n",
            "1         Smartphone   TechNova  15999.0     30       False   2.0\n",
            "2             Laptop   ByteCore  52999.0     20        True   1.0\n"
          ]
        }
      ]
    },
    {
      "cell_type": "code",
      "source": [
        "import pandas as pd\n",
        "\n",
        "df1 = pd.DataFrame({\n",
        "    \"ID\": [1, 2],\n",
        "    \"Name\": [\"Alice\", \"Bob\"],\n",
        "    \"Age\": [25, 30]\n",
        "})\n",
        "\n",
        "df2 = pd.DataFrame({\n",
        "    \"ID\": [3, 4],\n",
        "    \"Name\": [\"Charlie\", \"David\"],\n",
        "    \"Age\": [28, 35]\n",
        "})\n",
        "\n",
        "df_combined = pd.concat([df1, df2], axis=0)\n",
        "print(df_combined)"
      ],
      "metadata": {
        "colab": {
          "base_uri": "https://localhost:8080/"
        },
        "id": "g_UmAL4kKad5",
        "outputId": "fe21caee-f97f-42ad-8562-67c90c356b2b"
      },
      "execution_count": 132,
      "outputs": [
        {
          "output_type": "stream",
          "name": "stdout",
          "text": [
            "   ID     Name  Age\n",
            "0   1    Alice   25\n",
            "1   2      Bob   30\n",
            "0   3  Charlie   28\n",
            "1   4    David   35\n"
          ]
        }
      ]
    },
    {
      "cell_type": "code",
      "source": [
        "df_combined = pd.concat([df1, df2], axis=1)\n",
        "print(df_combined)"
      ],
      "metadata": {
        "colab": {
          "base_uri": "https://localhost:8080/"
        },
        "id": "_9Sl4SRyKfDJ",
        "outputId": "7677aa33-dc87-4fe9-84da-2c46663dbe80"
      },
      "execution_count": 133,
      "outputs": [
        {
          "output_type": "stream",
          "name": "stdout",
          "text": [
            "   ID   Name  Age  ID     Name  Age\n",
            "0   1  Alice   25   3  Charlie   28\n",
            "1   2    Bob   30   4    David   35\n"
          ]
        }
      ]
    },
    {
      "cell_type": "code",
      "source": [
        "pd.crosstab(df[\"Brand\"], df[\"Stock\"])"
      ],
      "metadata": {
        "colab": {
          "base_uri": "https://localhost:8080/",
          "height": 237
        },
        "id": "VzrXEzNAKhdK",
        "outputId": "b5e73c02-1a6b-476c-fc1b-2e90cd0f2bbc"
      },
      "execution_count": 134,
      "outputs": [
        {
          "output_type": "execute_result",
          "data": {
            "text/plain": [
              "Stock      20  30  40  50  60\n",
              "Brand                        \n",
              "ByteCore    1   0   0   0   0\n",
              "EchoBoom    0   0   0   0   1\n",
              "SoundMax    0   0   0   1   0\n",
              "TechNova    0   1   0   0   0\n",
              "TimeTrack   0   0   1   0   0"
            ],
            "text/html": [
              "\n",
              "  <div id=\"df-dff56eed-e7eb-4b47-a979-436cb771ddc2\" class=\"colab-df-container\">\n",
              "    <div>\n",
              "<style scoped>\n",
              "    .dataframe tbody tr th:only-of-type {\n",
              "        vertical-align: middle;\n",
              "    }\n",
              "\n",
              "    .dataframe tbody tr th {\n",
              "        vertical-align: top;\n",
              "    }\n",
              "\n",
              "    .dataframe thead th {\n",
              "        text-align: right;\n",
              "    }\n",
              "</style>\n",
              "<table border=\"1\" class=\"dataframe\">\n",
              "  <thead>\n",
              "    <tr style=\"text-align: right;\">\n",
              "      <th>Stock</th>\n",
              "      <th>20</th>\n",
              "      <th>30</th>\n",
              "      <th>40</th>\n",
              "      <th>50</th>\n",
              "      <th>60</th>\n",
              "    </tr>\n",
              "    <tr>\n",
              "      <th>Brand</th>\n",
              "      <th></th>\n",
              "      <th></th>\n",
              "      <th></th>\n",
              "      <th></th>\n",
              "      <th></th>\n",
              "    </tr>\n",
              "  </thead>\n",
              "  <tbody>\n",
              "    <tr>\n",
              "      <th>ByteCore</th>\n",
              "      <td>1</td>\n",
              "      <td>0</td>\n",
              "      <td>0</td>\n",
              "      <td>0</td>\n",
              "      <td>0</td>\n",
              "    </tr>\n",
              "    <tr>\n",
              "      <th>EchoBoom</th>\n",
              "      <td>0</td>\n",
              "      <td>0</td>\n",
              "      <td>0</td>\n",
              "      <td>0</td>\n",
              "      <td>1</td>\n",
              "    </tr>\n",
              "    <tr>\n",
              "      <th>SoundMax</th>\n",
              "      <td>0</td>\n",
              "      <td>0</td>\n",
              "      <td>0</td>\n",
              "      <td>1</td>\n",
              "      <td>0</td>\n",
              "    </tr>\n",
              "    <tr>\n",
              "      <th>TechNova</th>\n",
              "      <td>0</td>\n",
              "      <td>1</td>\n",
              "      <td>0</td>\n",
              "      <td>0</td>\n",
              "      <td>0</td>\n",
              "    </tr>\n",
              "    <tr>\n",
              "      <th>TimeTrack</th>\n",
              "      <td>0</td>\n",
              "      <td>0</td>\n",
              "      <td>1</td>\n",
              "      <td>0</td>\n",
              "      <td>0</td>\n",
              "    </tr>\n",
              "  </tbody>\n",
              "</table>\n",
              "</div>\n",
              "    <div class=\"colab-df-buttons\">\n",
              "\n",
              "  <div class=\"colab-df-container\">\n",
              "    <button class=\"colab-df-convert\" onclick=\"convertToInteractive('df-dff56eed-e7eb-4b47-a979-436cb771ddc2')\"\n",
              "            title=\"Convert this dataframe to an interactive table.\"\n",
              "            style=\"display:none;\">\n",
              "\n",
              "  <svg xmlns=\"http://www.w3.org/2000/svg\" height=\"24px\" viewBox=\"0 -960 960 960\">\n",
              "    <path d=\"M120-120v-720h720v720H120Zm60-500h600v-160H180v160Zm220 220h160v-160H400v160Zm0 220h160v-160H400v160ZM180-400h160v-160H180v160Zm440 0h160v-160H620v160ZM180-180h160v-160H180v160Zm440 0h160v-160H620v160Z\"/>\n",
              "  </svg>\n",
              "    </button>\n",
              "\n",
              "  <style>\n",
              "    .colab-df-container {\n",
              "      display:flex;\n",
              "      gap: 12px;\n",
              "    }\n",
              "\n",
              "    .colab-df-convert {\n",
              "      background-color: #E8F0FE;\n",
              "      border: none;\n",
              "      border-radius: 50%;\n",
              "      cursor: pointer;\n",
              "      display: none;\n",
              "      fill: #1967D2;\n",
              "      height: 32px;\n",
              "      padding: 0 0 0 0;\n",
              "      width: 32px;\n",
              "    }\n",
              "\n",
              "    .colab-df-convert:hover {\n",
              "      background-color: #E2EBFA;\n",
              "      box-shadow: 0px 1px 2px rgba(60, 64, 67, 0.3), 0px 1px 3px 1px rgba(60, 64, 67, 0.15);\n",
              "      fill: #174EA6;\n",
              "    }\n",
              "\n",
              "    .colab-df-buttons div {\n",
              "      margin-bottom: 4px;\n",
              "    }\n",
              "\n",
              "    [theme=dark] .colab-df-convert {\n",
              "      background-color: #3B4455;\n",
              "      fill: #D2E3FC;\n",
              "    }\n",
              "\n",
              "    [theme=dark] .colab-df-convert:hover {\n",
              "      background-color: #434B5C;\n",
              "      box-shadow: 0px 1px 3px 1px rgba(0, 0, 0, 0.15);\n",
              "      filter: drop-shadow(0px 1px 2px rgba(0, 0, 0, 0.3));\n",
              "      fill: #FFFFFF;\n",
              "    }\n",
              "  </style>\n",
              "\n",
              "    <script>\n",
              "      const buttonEl =\n",
              "        document.querySelector('#df-dff56eed-e7eb-4b47-a979-436cb771ddc2 button.colab-df-convert');\n",
              "      buttonEl.style.display =\n",
              "        google.colab.kernel.accessAllowed ? 'block' : 'none';\n",
              "\n",
              "      async function convertToInteractive(key) {\n",
              "        const element = document.querySelector('#df-dff56eed-e7eb-4b47-a979-436cb771ddc2');\n",
              "        const dataTable =\n",
              "          await google.colab.kernel.invokeFunction('convertToInteractive',\n",
              "                                                    [key], {});\n",
              "        if (!dataTable) return;\n",
              "\n",
              "        const docLinkHtml = 'Like what you see? Visit the ' +\n",
              "          '<a target=\"_blank\" href=https://colab.research.google.com/notebooks/data_table.ipynb>data table notebook</a>'\n",
              "          + ' to learn more about interactive tables.';\n",
              "        element.innerHTML = '';\n",
              "        dataTable['output_type'] = 'display_data';\n",
              "        await google.colab.output.renderOutput(dataTable, element);\n",
              "        const docLink = document.createElement('div');\n",
              "        docLink.innerHTML = docLinkHtml;\n",
              "        element.appendChild(docLink);\n",
              "      }\n",
              "    </script>\n",
              "  </div>\n",
              "\n",
              "\n",
              "    <div id=\"df-d53ae5c0-8918-4d75-a1f0-21cc0e1435ee\">\n",
              "      <button class=\"colab-df-quickchart\" onclick=\"quickchart('df-d53ae5c0-8918-4d75-a1f0-21cc0e1435ee')\"\n",
              "                title=\"Suggest charts\"\n",
              "                style=\"display:none;\">\n",
              "\n",
              "<svg xmlns=\"http://www.w3.org/2000/svg\" height=\"24px\"viewBox=\"0 0 24 24\"\n",
              "     width=\"24px\">\n",
              "    <g>\n",
              "        <path d=\"M19 3H5c-1.1 0-2 .9-2 2v14c0 1.1.9 2 2 2h14c1.1 0 2-.9 2-2V5c0-1.1-.9-2-2-2zM9 17H7v-7h2v7zm4 0h-2V7h2v10zm4 0h-2v-4h2v4z\"/>\n",
              "    </g>\n",
              "</svg>\n",
              "      </button>\n",
              "\n",
              "<style>\n",
              "  .colab-df-quickchart {\n",
              "      --bg-color: #E8F0FE;\n",
              "      --fill-color: #1967D2;\n",
              "      --hover-bg-color: #E2EBFA;\n",
              "      --hover-fill-color: #174EA6;\n",
              "      --disabled-fill-color: #AAA;\n",
              "      --disabled-bg-color: #DDD;\n",
              "  }\n",
              "\n",
              "  [theme=dark] .colab-df-quickchart {\n",
              "      --bg-color: #3B4455;\n",
              "      --fill-color: #D2E3FC;\n",
              "      --hover-bg-color: #434B5C;\n",
              "      --hover-fill-color: #FFFFFF;\n",
              "      --disabled-bg-color: #3B4455;\n",
              "      --disabled-fill-color: #666;\n",
              "  }\n",
              "\n",
              "  .colab-df-quickchart {\n",
              "    background-color: var(--bg-color);\n",
              "    border: none;\n",
              "    border-radius: 50%;\n",
              "    cursor: pointer;\n",
              "    display: none;\n",
              "    fill: var(--fill-color);\n",
              "    height: 32px;\n",
              "    padding: 0;\n",
              "    width: 32px;\n",
              "  }\n",
              "\n",
              "  .colab-df-quickchart:hover {\n",
              "    background-color: var(--hover-bg-color);\n",
              "    box-shadow: 0 1px 2px rgba(60, 64, 67, 0.3), 0 1px 3px 1px rgba(60, 64, 67, 0.15);\n",
              "    fill: var(--button-hover-fill-color);\n",
              "  }\n",
              "\n",
              "  .colab-df-quickchart-complete:disabled,\n",
              "  .colab-df-quickchart-complete:disabled:hover {\n",
              "    background-color: var(--disabled-bg-color);\n",
              "    fill: var(--disabled-fill-color);\n",
              "    box-shadow: none;\n",
              "  }\n",
              "\n",
              "  .colab-df-spinner {\n",
              "    border: 2px solid var(--fill-color);\n",
              "    border-color: transparent;\n",
              "    border-bottom-color: var(--fill-color);\n",
              "    animation:\n",
              "      spin 1s steps(1) infinite;\n",
              "  }\n",
              "\n",
              "  @keyframes spin {\n",
              "    0% {\n",
              "      border-color: transparent;\n",
              "      border-bottom-color: var(--fill-color);\n",
              "      border-left-color: var(--fill-color);\n",
              "    }\n",
              "    20% {\n",
              "      border-color: transparent;\n",
              "      border-left-color: var(--fill-color);\n",
              "      border-top-color: var(--fill-color);\n",
              "    }\n",
              "    30% {\n",
              "      border-color: transparent;\n",
              "      border-left-color: var(--fill-color);\n",
              "      border-top-color: var(--fill-color);\n",
              "      border-right-color: var(--fill-color);\n",
              "    }\n",
              "    40% {\n",
              "      border-color: transparent;\n",
              "      border-right-color: var(--fill-color);\n",
              "      border-top-color: var(--fill-color);\n",
              "    }\n",
              "    60% {\n",
              "      border-color: transparent;\n",
              "      border-right-color: var(--fill-color);\n",
              "    }\n",
              "    80% {\n",
              "      border-color: transparent;\n",
              "      border-right-color: var(--fill-color);\n",
              "      border-bottom-color: var(--fill-color);\n",
              "    }\n",
              "    90% {\n",
              "      border-color: transparent;\n",
              "      border-bottom-color: var(--fill-color);\n",
              "    }\n",
              "  }\n",
              "</style>\n",
              "\n",
              "      <script>\n",
              "        async function quickchart(key) {\n",
              "          const quickchartButtonEl =\n",
              "            document.querySelector('#' + key + ' button');\n",
              "          quickchartButtonEl.disabled = true;  // To prevent multiple clicks.\n",
              "          quickchartButtonEl.classList.add('colab-df-spinner');\n",
              "          try {\n",
              "            const charts = await google.colab.kernel.invokeFunction(\n",
              "                'suggestCharts', [key], {});\n",
              "          } catch (error) {\n",
              "            console.error('Error during call to suggestCharts:', error);\n",
              "          }\n",
              "          quickchartButtonEl.classList.remove('colab-df-spinner');\n",
              "          quickchartButtonEl.classList.add('colab-df-quickchart-complete');\n",
              "        }\n",
              "        (() => {\n",
              "          let quickchartButtonEl =\n",
              "            document.querySelector('#df-d53ae5c0-8918-4d75-a1f0-21cc0e1435ee button');\n",
              "          quickchartButtonEl.style.display =\n",
              "            google.colab.kernel.accessAllowed ? 'block' : 'none';\n",
              "        })();\n",
              "      </script>\n",
              "    </div>\n",
              "\n",
              "    </div>\n",
              "  </div>\n"
            ],
            "application/vnd.google.colaboratory.intrinsic+json": {
              "type": "dataframe",
              "summary": "{\n  \"name\": \"pd\",\n  \"rows\": 5,\n  \"fields\": [\n    {\n      \"column\": \"Brand\",\n      \"properties\": {\n        \"dtype\": \"string\",\n        \"num_unique_values\": 5,\n        \"samples\": [\n          \"EchoBoom\",\n          \"TimeTrack\",\n          \"SoundMax\"\n        ],\n        \"semantic_type\": \"\",\n        \"description\": \"\"\n      }\n    },\n    {\n      \"column\": 20,\n      \"properties\": {\n        \"dtype\": \"number\",\n        \"std\": 0,\n        \"min\": 0,\n        \"max\": 1,\n        \"num_unique_values\": 2,\n        \"samples\": [\n          0,\n          1\n        ],\n        \"semantic_type\": \"\",\n        \"description\": \"\"\n      }\n    },\n    {\n      \"column\": 30,\n      \"properties\": {\n        \"dtype\": \"number\",\n        \"std\": 0,\n        \"min\": 0,\n        \"max\": 1,\n        \"num_unique_values\": 2,\n        \"samples\": [\n          1,\n          0\n        ],\n        \"semantic_type\": \"\",\n        \"description\": \"\"\n      }\n    },\n    {\n      \"column\": 40,\n      \"properties\": {\n        \"dtype\": \"number\",\n        \"std\": 0,\n        \"min\": 0,\n        \"max\": 1,\n        \"num_unique_values\": 2,\n        \"samples\": [\n          1,\n          0\n        ],\n        \"semantic_type\": \"\",\n        \"description\": \"\"\n      }\n    },\n    {\n      \"column\": 50,\n      \"properties\": {\n        \"dtype\": \"number\",\n        \"std\": 0,\n        \"min\": 0,\n        \"max\": 1,\n        \"num_unique_values\": 2,\n        \"samples\": [\n          1,\n          0\n        ],\n        \"semantic_type\": \"\",\n        \"description\": \"\"\n      }\n    },\n    {\n      \"column\": 60,\n      \"properties\": {\n        \"dtype\": \"number\",\n        \"std\": 0,\n        \"min\": 0,\n        \"max\": 1,\n        \"num_unique_values\": 2,\n        \"samples\": [\n          1,\n          0\n        ],\n        \"semantic_type\": \"\",\n        \"description\": \"\"\n      }\n    }\n  ]\n}"
            }
          },
          "metadata": {},
          "execution_count": 134
        }
      ]
    },
    {
      "cell_type": "code",
      "source": [
        "import pandas as pd\n",
        "\n",
        "data = {\n",
        "    \"Purchase Date\": [\"2024-01-15\", \"2024-01-20\", \"2024-02-05\", \"2024-02-18\", \"2024-03-10\"],\n",
        "    \"Product\": [\"Laptop\", \"Smartphone\", \"Tablet\", \"Smartwatch\", \"Headphones\"],\n",
        "    \"Price\": [50000, 30000, 20000, 15000, 5000],\n",
        "    \"Quantity\": [2, 1, 3, 2, 4]\n",
        "}\n",
        "\n",
        "df_sales = pd.DataFrame(data)\n",
        "print(df_sales)"
      ],
      "metadata": {
        "colab": {
          "base_uri": "https://localhost:8080/"
        },
        "id": "49wUS6thKlR6",
        "outputId": "8c836df6-3eb9-4df5-b06b-aa340dacf867"
      },
      "execution_count": 135,
      "outputs": [
        {
          "output_type": "stream",
          "name": "stdout",
          "text": [
            "  Purchase Date     Product  Price  Quantity\n",
            "0    2024-01-15      Laptop  50000         2\n",
            "1    2024-01-20  Smartphone  30000         1\n",
            "2    2024-02-05      Tablet  20000         3\n",
            "3    2024-02-18  Smartwatch  15000         2\n",
            "4    2024-03-10  Headphones   5000         4\n"
          ]
        }
      ]
    },
    {
      "cell_type": "code",
      "source": [
        "df_sales[\"Purchase Date\"] = pd.to_datetime(df_sales[\"Purchase Date\"])\n",
        "print(df_sales)\n",
        "df_sales.set_index(\"Purchase Date\", inplace=True)\n"
      ],
      "metadata": {
        "colab": {
          "base_uri": "https://localhost:8080/"
        },
        "id": "zLY7DfR4Knaq",
        "outputId": "bae62655-7316-4091-ef2b-b81ed89ba8ea"
      },
      "execution_count": 136,
      "outputs": [
        {
          "output_type": "stream",
          "name": "stdout",
          "text": [
            "  Purchase Date     Product  Price  Quantity\n",
            "0    2024-01-15      Laptop  50000         2\n",
            "1    2024-01-20  Smartphone  30000         1\n",
            "2    2024-02-05      Tablet  20000         3\n",
            "3    2024-02-18  Smartwatch  15000         2\n",
            "4    2024-03-10  Headphones   5000         4\n"
          ]
        }
      ]
    },
    {
      "cell_type": "code",
      "source": [
        "daily_avg = df_sales.resample(\"D\").mean(numeric_only=True)\n",
        "print(\"\\n--- Daily Average ---\")\n",
        "print(daily_avg.head(15))\n",
        "\n",
        "weekly_avg = df_sales.resample(\"W\").mean(numeric_only=True)\n",
        "print(\"\\n--- Weekly Average ---\")\n",
        "print(weekly_avg)\n",
        "\n",
        "monthly_avg = df_sales.resample(\"M\").mean(numeric_only=True)\n",
        "print(\"\\n--- Monthly Average ---\")\n",
        "print(monthly_avg)\n",
        "\n",
        "quarterly_avg = df_sales.resample(\"Q\").mean(numeric_only=True)\n",
        "print(\"\\n--- Quarterly Average ---\")\n",
        "print(quarterly_avg)\n",
        "\n",
        "yearly_avg = df_sales.resample(\"Y\").mean(numeric_only=True)\n",
        "print(\"\\n--- Yearly Average ---\")\n",
        "print(yearly_avg)\n",
        "\n",
        "\n",
        "\n"
      ],
      "metadata": {
        "colab": {
          "base_uri": "https://localhost:8080/"
        },
        "id": "8rccFRoXKp7j",
        "outputId": "bd58bd58-8a67-4047-9b4c-d7aeee17b873"
      },
      "execution_count": 137,
      "outputs": [
        {
          "output_type": "stream",
          "name": "stdout",
          "text": [
            "\n",
            "--- Daily Average ---\n",
            "                 Price  Quantity\n",
            "Purchase Date                   \n",
            "2024-01-15     50000.0       2.0\n",
            "2024-01-16         NaN       NaN\n",
            "2024-01-17         NaN       NaN\n",
            "2024-01-18         NaN       NaN\n",
            "2024-01-19         NaN       NaN\n",
            "2024-01-20     30000.0       1.0\n",
            "2024-01-21         NaN       NaN\n",
            "2024-01-22         NaN       NaN\n",
            "2024-01-23         NaN       NaN\n",
            "2024-01-24         NaN       NaN\n",
            "2024-01-25         NaN       NaN\n",
            "2024-01-26         NaN       NaN\n",
            "2024-01-27         NaN       NaN\n",
            "2024-01-28         NaN       NaN\n",
            "2024-01-29         NaN       NaN\n",
            "\n",
            "--- Weekly Average ---\n",
            "                 Price  Quantity\n",
            "Purchase Date                   \n",
            "2024-01-21     40000.0       1.5\n",
            "2024-01-28         NaN       NaN\n",
            "2024-02-04         NaN       NaN\n",
            "2024-02-11     20000.0       3.0\n",
            "2024-02-18     15000.0       2.0\n",
            "2024-02-25         NaN       NaN\n",
            "2024-03-03         NaN       NaN\n",
            "2024-03-10      5000.0       4.0\n",
            "\n",
            "--- Monthly Average ---\n",
            "                 Price  Quantity\n",
            "Purchase Date                   \n",
            "2024-01-31     40000.0       1.5\n",
            "2024-02-29     17500.0       2.5\n",
            "2024-03-31      5000.0       4.0\n",
            "\n",
            "--- Quarterly Average ---\n",
            "                 Price  Quantity\n",
            "Purchase Date                   \n",
            "2024-03-31     24000.0       2.4\n",
            "\n",
            "--- Yearly Average ---\n",
            "                 Price  Quantity\n",
            "Purchase Date                   \n",
            "2024-12-31     24000.0       2.4\n"
          ]
        },
        {
          "output_type": "stream",
          "name": "stderr",
          "text": [
            "/tmp/ipython-input-1528598246.py:9: FutureWarning: 'M' is deprecated and will be removed in a future version, please use 'ME' instead.\n",
            "  monthly_avg = df_sales.resample(\"M\").mean(numeric_only=True)\n",
            "/tmp/ipython-input-1528598246.py:13: FutureWarning: 'Q' is deprecated and will be removed in a future version, please use 'QE' instead.\n",
            "  quarterly_avg = df_sales.resample(\"Q\").mean(numeric_only=True)\n",
            "/tmp/ipython-input-1528598246.py:17: FutureWarning: 'Y' is deprecated and will be removed in a future version, please use 'YE' instead.\n",
            "  yearly_avg = df_sales.resample(\"Y\").mean(numeric_only=True)\n"
          ]
        }
      ]
    },
    {
      "cell_type": "code",
      "source": [
        "df1.columns = df1.columns.str.strip()\n",
        "df2.columns = df2.columns.str.strip()\n",
        "\n",
        "df_merged = pd.merge(df1, df2, on=\"Name\", how=\"inner\")\n",
        "print(df_merged)\n"
      ],
      "metadata": {
        "colab": {
          "base_uri": "https://localhost:8080/"
        },
        "id": "iK3753G_LgCr",
        "outputId": "0de4c43e-fb21-4f4a-83c6-497cd4b29f1b"
      },
      "execution_count": 138,
      "outputs": [
        {
          "output_type": "stream",
          "name": "stdout",
          "text": [
            "Empty DataFrame\n",
            "Columns: [ID_x, Name, Age_x, ID_y, Age_y]\n",
            "Index: []\n"
          ]
        }
      ]
    },
    {
      "cell_type": "code",
      "source": [
        "import pandas as pd\n",
        "import numpy as np\n",
        "\n",
        "data = {\n",
        "    'A': [1, 2, np.nan, 4, 5],\n",
        "    'B': [np.nan, 2, 3, np.nan, 5],\n",
        "    'C': [10, np.nan, np.nan, 40, 50]\n",
        "}\n",
        "\n",
        "df = pd.DataFrame(data)\n",
        "print(\"Original DataFrame with Missing Values:\")\n",
        "print(df)\n"
      ],
      "metadata": {
        "colab": {
          "base_uri": "https://localhost:8080/"
        },
        "id": "8Om4uKpcLhO4",
        "outputId": "24744c35-87e3-462c-8898-bcbc9ed01370"
      },
      "execution_count": 139,
      "outputs": [
        {
          "output_type": "stream",
          "name": "stdout",
          "text": [
            "Original DataFrame with Missing Values:\n",
            "     A    B     C\n",
            "0  1.0  NaN  10.0\n",
            "1  2.0  2.0   NaN\n",
            "2  NaN  3.0   NaN\n",
            "3  4.0  NaN  40.0\n",
            "4  5.0  5.0  50.0\n"
          ]
        }
      ]
    },
    {
      "cell_type": "code",
      "source": [
        "df_interpolate = df.interpolate()\n",
        "print(\"\\nDataFrame after filling NaN values using interpolation:\")\n",
        "print(df_interpolate)\n"
      ],
      "metadata": {
        "colab": {
          "base_uri": "https://localhost:8080/"
        },
        "id": "avtB_7KZMUuU",
        "outputId": "2e96dc91-421d-4d2a-a80f-c1a205cd8692"
      },
      "execution_count": 140,
      "outputs": [
        {
          "output_type": "stream",
          "name": "stdout",
          "text": [
            "\n",
            "DataFrame after filling NaN values using interpolation:\n",
            "     A    B     C\n",
            "0  1.0  NaN  10.0\n",
            "1  2.0  2.0  20.0\n",
            "2  3.0  3.0  30.0\n",
            "3  4.0  4.0  40.0\n",
            "4  5.0  5.0  50.0\n"
          ]
        }
      ]
    },
    {
      "cell_type": "code",
      "source": [
        "df_dropna = df.dropna()\n",
        "print(\"\\nDataFrame after dropping rows with NaN values:\")\n",
        "print(df_dropna)"
      ],
      "metadata": {
        "colab": {
          "base_uri": "https://localhost:8080/"
        },
        "id": "4l-gF-W1N4RD",
        "outputId": "9999accf-052d-4f4c-9573-714dd486fb2e"
      },
      "execution_count": 141,
      "outputs": [
        {
          "output_type": "stream",
          "name": "stdout",
          "text": [
            "\n",
            "DataFrame after dropping rows with NaN values:\n",
            "     A    B     C\n",
            "4  5.0  5.0  50.0\n"
          ]
        }
      ]
    },
    {
      "cell_type": "code",
      "source": [
        "df_fillna = df.fillna(0)\n",
        "print(\"\\nDataFrame after filling NaN values with 0:\")\n",
        "print(df_fillna)\n"
      ],
      "metadata": {
        "colab": {
          "base_uri": "https://localhost:8080/"
        },
        "id": "vj7uHknBN6ov",
        "outputId": "b11c93a2-9fd6-4cd6-8009-31fa1a0e796e"
      },
      "execution_count": 142,
      "outputs": [
        {
          "output_type": "stream",
          "name": "stdout",
          "text": [
            "\n",
            "DataFrame after filling NaN values with 0:\n",
            "     A    B     C\n",
            "0  1.0  0.0  10.0\n",
            "1  2.0  2.0   0.0\n",
            "2  0.0  3.0   0.0\n",
            "3  4.0  0.0  40.0\n",
            "4  5.0  5.0  50.0\n"
          ]
        }
      ]
    },
    {
      "cell_type": "code",
      "source": [
        "from google.colab import files\n",
        "uploaded = files.upload()"
      ],
      "metadata": {
        "colab": {
          "base_uri": "https://localhost:8080/",
          "height": 73
        },
        "id": "1AuExNfYOMNY",
        "outputId": "8f1e6d71-aa90-4600-943a-11f8acb633a6"
      },
      "execution_count": 143,
      "outputs": [
        {
          "output_type": "display_data",
          "data": {
            "text/plain": [
              "<IPython.core.display.HTML object>"
            ],
            "text/html": [
              "\n",
              "     <input type=\"file\" id=\"files-a4e3d234-c3b7-4fe0-ad59-6f7ef15a7bac\" name=\"files[]\" multiple disabled\n",
              "        style=\"border:none\" />\n",
              "     <output id=\"result-a4e3d234-c3b7-4fe0-ad59-6f7ef15a7bac\">\n",
              "      Upload widget is only available when the cell has been executed in the\n",
              "      current browser session. Please rerun this cell to enable.\n",
              "      </output>\n",
              "      <script>// Copyright 2017 Google LLC\n",
              "//\n",
              "// Licensed under the Apache License, Version 2.0 (the \"License\");\n",
              "// you may not use this file except in compliance with the License.\n",
              "// You may obtain a copy of the License at\n",
              "//\n",
              "//      http://www.apache.org/licenses/LICENSE-2.0\n",
              "//\n",
              "// Unless required by applicable law or agreed to in writing, software\n",
              "// distributed under the License is distributed on an \"AS IS\" BASIS,\n",
              "// WITHOUT WARRANTIES OR CONDITIONS OF ANY KIND, either express or implied.\n",
              "// See the License for the specific language governing permissions and\n",
              "// limitations under the License.\n",
              "\n",
              "/**\n",
              " * @fileoverview Helpers for google.colab Python module.\n",
              " */\n",
              "(function(scope) {\n",
              "function span(text, styleAttributes = {}) {\n",
              "  const element = document.createElement('span');\n",
              "  element.textContent = text;\n",
              "  for (const key of Object.keys(styleAttributes)) {\n",
              "    element.style[key] = styleAttributes[key];\n",
              "  }\n",
              "  return element;\n",
              "}\n",
              "\n",
              "// Max number of bytes which will be uploaded at a time.\n",
              "const MAX_PAYLOAD_SIZE = 100 * 1024;\n",
              "\n",
              "function _uploadFiles(inputId, outputId) {\n",
              "  const steps = uploadFilesStep(inputId, outputId);\n",
              "  const outputElement = document.getElementById(outputId);\n",
              "  // Cache steps on the outputElement to make it available for the next call\n",
              "  // to uploadFilesContinue from Python.\n",
              "  outputElement.steps = steps;\n",
              "\n",
              "  return _uploadFilesContinue(outputId);\n",
              "}\n",
              "\n",
              "// This is roughly an async generator (not supported in the browser yet),\n",
              "// where there are multiple asynchronous steps and the Python side is going\n",
              "// to poll for completion of each step.\n",
              "// This uses a Promise to block the python side on completion of each step,\n",
              "// then passes the result of the previous step as the input to the next step.\n",
              "function _uploadFilesContinue(outputId) {\n",
              "  const outputElement = document.getElementById(outputId);\n",
              "  const steps = outputElement.steps;\n",
              "\n",
              "  const next = steps.next(outputElement.lastPromiseValue);\n",
              "  return Promise.resolve(next.value.promise).then((value) => {\n",
              "    // Cache the last promise value to make it available to the next\n",
              "    // step of the generator.\n",
              "    outputElement.lastPromiseValue = value;\n",
              "    return next.value.response;\n",
              "  });\n",
              "}\n",
              "\n",
              "/**\n",
              " * Generator function which is called between each async step of the upload\n",
              " * process.\n",
              " * @param {string} inputId Element ID of the input file picker element.\n",
              " * @param {string} outputId Element ID of the output display.\n",
              " * @return {!Iterable<!Object>} Iterable of next steps.\n",
              " */\n",
              "function* uploadFilesStep(inputId, outputId) {\n",
              "  const inputElement = document.getElementById(inputId);\n",
              "  inputElement.disabled = false;\n",
              "\n",
              "  const outputElement = document.getElementById(outputId);\n",
              "  outputElement.innerHTML = '';\n",
              "\n",
              "  const pickedPromise = new Promise((resolve) => {\n",
              "    inputElement.addEventListener('change', (e) => {\n",
              "      resolve(e.target.files);\n",
              "    });\n",
              "  });\n",
              "\n",
              "  const cancel = document.createElement('button');\n",
              "  inputElement.parentElement.appendChild(cancel);\n",
              "  cancel.textContent = 'Cancel upload';\n",
              "  const cancelPromise = new Promise((resolve) => {\n",
              "    cancel.onclick = () => {\n",
              "      resolve(null);\n",
              "    };\n",
              "  });\n",
              "\n",
              "  // Wait for the user to pick the files.\n",
              "  const files = yield {\n",
              "    promise: Promise.race([pickedPromise, cancelPromise]),\n",
              "    response: {\n",
              "      action: 'starting',\n",
              "    }\n",
              "  };\n",
              "\n",
              "  cancel.remove();\n",
              "\n",
              "  // Disable the input element since further picks are not allowed.\n",
              "  inputElement.disabled = true;\n",
              "\n",
              "  if (!files) {\n",
              "    return {\n",
              "      response: {\n",
              "        action: 'complete',\n",
              "      }\n",
              "    };\n",
              "  }\n",
              "\n",
              "  for (const file of files) {\n",
              "    const li = document.createElement('li');\n",
              "    li.append(span(file.name, {fontWeight: 'bold'}));\n",
              "    li.append(span(\n",
              "        `(${file.type || 'n/a'}) - ${file.size} bytes, ` +\n",
              "        `last modified: ${\n",
              "            file.lastModifiedDate ? file.lastModifiedDate.toLocaleDateString() :\n",
              "                                    'n/a'} - `));\n",
              "    const percent = span('0% done');\n",
              "    li.appendChild(percent);\n",
              "\n",
              "    outputElement.appendChild(li);\n",
              "\n",
              "    const fileDataPromise = new Promise((resolve) => {\n",
              "      const reader = new FileReader();\n",
              "      reader.onload = (e) => {\n",
              "        resolve(e.target.result);\n",
              "      };\n",
              "      reader.readAsArrayBuffer(file);\n",
              "    });\n",
              "    // Wait for the data to be ready.\n",
              "    let fileData = yield {\n",
              "      promise: fileDataPromise,\n",
              "      response: {\n",
              "        action: 'continue',\n",
              "      }\n",
              "    };\n",
              "\n",
              "    // Use a chunked sending to avoid message size limits. See b/62115660.\n",
              "    let position = 0;\n",
              "    do {\n",
              "      const length = Math.min(fileData.byteLength - position, MAX_PAYLOAD_SIZE);\n",
              "      const chunk = new Uint8Array(fileData, position, length);\n",
              "      position += length;\n",
              "\n",
              "      const base64 = btoa(String.fromCharCode.apply(null, chunk));\n",
              "      yield {\n",
              "        response: {\n",
              "          action: 'append',\n",
              "          file: file.name,\n",
              "          data: base64,\n",
              "        },\n",
              "      };\n",
              "\n",
              "      let percentDone = fileData.byteLength === 0 ?\n",
              "          100 :\n",
              "          Math.round((position / fileData.byteLength) * 100);\n",
              "      percent.textContent = `${percentDone}% done`;\n",
              "\n",
              "    } while (position < fileData.byteLength);\n",
              "  }\n",
              "\n",
              "  // All done.\n",
              "  yield {\n",
              "    response: {\n",
              "      action: 'complete',\n",
              "    }\n",
              "  };\n",
              "}\n",
              "\n",
              "scope.google = scope.google || {};\n",
              "scope.google.colab = scope.google.colab || {};\n",
              "scope.google.colab._files = {\n",
              "  _uploadFiles,\n",
              "  _uploadFilesContinue,\n",
              "};\n",
              "})(self);\n",
              "</script> "
            ]
          },
          "metadata": {}
        },
        {
          "output_type": "stream",
          "name": "stdout",
          "text": [
            "Saving pandas.ipynb to pandas.ipynb\n"
          ]
        }
      ]
    },
    {
      "cell_type": "code",
      "source": [
        "import pandas as pd\n",
        "df = pd.read_csv('emails.csv')\n",
        "print(df.head())"
      ],
      "metadata": {
        "colab": {
          "base_uri": "https://localhost:8080/"
        },
        "id": "iB6cLOQHO-oV",
        "outputId": "f8b65c57-9bdc-45ce-9f94-0fa86f3375af"
      },
      "execution_count": 146,
      "outputs": [
        {
          "output_type": "stream",
          "name": "stdout",
          "text": [
            "                        Emails\n",
            "0     sriramsegu2003@gmail.com\n",
            "1  manjunadhareddy62@gmail.com\n",
            "2        srasool6371@gmail.com\n",
            "3   chaituvoleti6300@gmail.com\n",
            "4  hemahemalatha1224@gmail.com\n"
          ]
        }
      ]
    },
    {
      "cell_type": "code",
      "source": [
        "df_json = pd.read_json(\"weather.json\")\n",
        "print(df_json.head())\n"
      ],
      "metadata": {
        "colab": {
          "base_uri": "https://localhost:8080/"
        },
        "id": "SEvpWjvtPr4a",
        "outputId": "5edd2233-2934-4fc5-c478-c9a855a9181f"
      },
      "execution_count": 147,
      "outputs": [
        {
          "output_type": "stream",
          "name": "stdout",
          "text": [
            "                                             weather\n",
            "0  {'cityId': 1, 'cityName': 'London', 'currentCo...\n",
            "1  {'cityId': 2, 'cityName': 'Newcastle', 'curren...\n",
            "2  {'cityId': 3, 'cityName': 'Edinburgh', 'curren...\n",
            "3  {'cityId': 4, 'cityName': 'Manchester', 'curre...\n",
            "4  {'cityId': 5, 'cityName': 'Glasgow', 'currentC...\n"
          ]
        }
      ]
    }
  ]
}