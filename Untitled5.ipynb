{
  "nbformat": 4,
  "nbformat_minor": 0,
  "metadata": {
    "colab": {
      "provenance": [],
      "authorship_tag": "ABX9TyPBV5ykHLYA2etfaX2HuXOg",
      "include_colab_link": true
    },
    "kernelspec": {
      "name": "python3",
      "display_name": "Python 3"
    },
    "language_info": {
      "name": "python"
    }
  },
  "cells": [
    {
      "cell_type": "markdown",
      "metadata": {
        "id": "view-in-github",
        "colab_type": "text"
      },
      "source": [
        "<a href=\"https://colab.research.google.com/github/rasool321/Python-CourseWork/blob/main/Untitled5.ipynb\" target=\"_parent\"><img src=\"https://colab.research.google.com/assets/colab-badge.svg\" alt=\"Open In Colab\"/></a>"
      ]
    },
    {
      "cell_type": "code",
      "execution_count": 42,
      "metadata": {
        "id": "GwlcPv3DjH5j"
      },
      "outputs": [],
      "source": [
        " # Importing NumPy library\n",
        "import numpy as np"
      ]
    },
    {
      "cell_type": "code",
      "source": [
        "# Creating a 1D array\n",
        "arr1 = np.array([1, 2, 3, 4, 5])\n",
        "print(\"1-dim\",arr1,sep='\\n',end='\\n\\n')\n",
        "\n",
        "# Creating a 2D array (matrix)\n",
        "arr2 = np.array([[1, 2, 3], [4, 5, 6]])\n",
        "print(\"2-dim\",arr2,sep='\\n',end='\\n\\n')\n",
        "\n",
        "# Creating a 3D array (multi-dimensional)\n",
        "arr3 = np.array([[[1, 2], [3, 4]],[[5, 6], [7, 8]]])\n",
        "print(\"multi-dim\",arr3,sep='\\n')"
      ],
      "metadata": {
        "colab": {
          "base_uri": "https://localhost:8080/"
        },
        "id": "KZLJck_AkwE0",
        "outputId": "c65d3297-161c-485f-ab21-c677e7b73a3f"
      },
      "execution_count": 43,
      "outputs": [
        {
          "output_type": "stream",
          "name": "stdout",
          "text": [
            "1-dim\n",
            "[1 2 3 4 5]\n",
            "\n",
            "2-dim\n",
            "[[1 2 3]\n",
            " [4 5 6]]\n",
            "\n",
            "multi-dim\n",
            "[[[1 2]\n",
            "  [3 4]]\n",
            "\n",
            " [[5 6]\n",
            "  [7 8]]]\n"
          ]
        }
      ]
    },
    {
      "cell_type": "code",
      "source": [
        "# Creating an array filled with zeros of shape (3, 5)\n",
        "zeros = np.zeros((3, 5)) #np.zeros( inside this give shape like single digit - 1d , 2digits 2 dimensions like that)\n",
        "print(zeros)"
      ],
      "metadata": {
        "colab": {
          "base_uri": "https://localhost:8080/"
        },
        "id": "WxDG4fH1lfof",
        "outputId": "1766582e-06f3-4787-c620-a1d270e4d23b"
      },
      "execution_count": 44,
      "outputs": [
        {
          "output_type": "stream",
          "name": "stdout",
          "text": [
            "[[0. 0. 0. 0. 0.]\n",
            " [0. 0. 0. 0. 0.]\n",
            " [0. 0. 0. 0. 0.]]\n"
          ]
        }
      ]
    },
    {
      "cell_type": "code",
      "source": [
        "# Creating an array filled with ones of shape (6, 4)\n",
        "ones = np.ones((6, 4))\n",
        "print(ones)"
      ],
      "metadata": {
        "colab": {
          "base_uri": "https://localhost:8080/"
        },
        "id": "t6vdTx-nmDJs",
        "outputId": "5d8be729-6c5c-4362-95f8-412917e3fca8"
      },
      "execution_count": 45,
      "outputs": [
        {
          "output_type": "stream",
          "name": "stdout",
          "text": [
            "[[1. 1. 1. 1.]\n",
            " [1. 1. 1. 1.]\n",
            " [1. 1. 1. 1.]\n",
            " [1. 1. 1. 1.]\n",
            " [1. 1. 1. 1.]\n",
            " [1. 1. 1. 1.]]\n"
          ]
        }
      ]
    },
    {
      "cell_type": "code",
      "source": [
        "# Creating an identity matrix of size 6x6\n",
        "identity = np.eye(6)\n",
        "print(identity)"
      ],
      "metadata": {
        "colab": {
          "base_uri": "https://localhost:8080/"
        },
        "id": "28GaOE4FmTZd",
        "outputId": "b6ea81c9-56fc-447b-82c8-5407fe86e944"
      },
      "execution_count": 46,
      "outputs": [
        {
          "output_type": "stream",
          "name": "stdout",
          "text": [
            "[[1. 0. 0. 0. 0. 0.]\n",
            " [0. 1. 0. 0. 0. 0.]\n",
            " [0. 0. 1. 0. 0. 0.]\n",
            " [0. 0. 0. 1. 0. 0.]\n",
            " [0. 0. 0. 0. 1. 0.]\n",
            " [0. 0. 0. 0. 0. 1.]]\n"
          ]
        }
      ]
    },
    {
      "cell_type": "code",
      "source": [
        "# Creating an array filled with a constant value (False) of shape (5, 9)\n",
        "full_array = np.full((5, 9), False) # first is the shape and next is the value.\n",
        "# Creating a 1D array of length 3 filled with the string 'booked'\n",
        "f = np.full(3, 'booked')\n",
        "print(full_array)\n",
        "print(f)"
      ],
      "metadata": {
        "colab": {
          "base_uri": "https://localhost:8080/"
        },
        "id": "6pLrE4J5mVW1",
        "outputId": "73fad4c6-6a2c-4a65-e22a-120a0050d1bf"
      },
      "execution_count": 47,
      "outputs": [
        {
          "output_type": "stream",
          "name": "stdout",
          "text": [
            "[[False False False False False False False False False]\n",
            " [False False False False False False False False False]\n",
            " [False False False False False False False False False]\n",
            " [False False False False False False False False False]\n",
            " [False False False False False False False False False]]\n",
            "['booked' 'booked' 'booked']\n"
          ]
        }
      ]
    },
    {
      "cell_type": "code",
      "source": [
        "# Creating a range array from 10 to 0 (inclusive) with step -1\n",
        "range_arr = np.arange(10,-1,-1) # starting , ending and step values\n",
        "# Creating a range array from 2 to 20 with step 2\n",
        "r = np.arange(2,20,2)\n",
        "print(range_arr)\n",
        "print(r)"
      ],
      "metadata": {
        "colab": {
          "base_uri": "https://localhost:8080/"
        },
        "id": "_qCcl8VDmzOT",
        "outputId": "a9e31c19-f40e-4070-bbb2-f91a38a06ee6"
      },
      "execution_count": 48,
      "outputs": [
        {
          "output_type": "stream",
          "name": "stdout",
          "text": [
            "[10  9  8  7  6  5  4  3  2  1  0]\n",
            "[ 2  4  6  8 10 12 14 16 18]\n"
          ]
        }
      ]
    },
    {
      "cell_type": "code",
      "source": [
        "#it divides the range based on the last value (first and second values are start and end)\n",
        "# Creating an array with 5 equally spaced values between 0 and 50\n",
        "lin_space = np.linspace(0, 50, 5) # start end division value\n",
        "# Creating an array with 2 equally spaced values between 0 and 20\n",
        "l = np.linspace(0, 20, 2)\n",
        "print(lin_space)\n",
        "print(l)"
      ],
      "metadata": {
        "colab": {
          "base_uri": "https://localhost:8080/"
        },
        "id": "8FLrYG3OnZkN",
        "outputId": "8284f17a-9d30-406b-f9c5-9fcad86cc350"
      },
      "execution_count": 49,
      "outputs": [
        {
          "output_type": "stream",
          "name": "stdout",
          "text": [
            "[ 0.  12.5 25.  37.5 50. ]\n",
            "[ 0. 20.]\n"
          ]
        }
      ]
    },
    {
      "cell_type": "code",
      "source": [
        "#random.randint genarates the int values\n",
        "# Generating random integers between 50 and 100 with shape (10, 20)\n",
        "rand_int = np.random.randint(50, 100, (10, 20))  #start and end , shape(like how many values it may be 1D,2D,3D)\n",
        "# Generating 10 random integers between 50 and 100 (1D array)\n",
        "t = np.random.randint(50, 100, 10)\n",
        "print(rand_int)\n",
        "print(t)"
      ],
      "metadata": {
        "colab": {
          "base_uri": "https://localhost:8080/"
        },
        "id": "U6fgIVf5oRwT",
        "outputId": "d1871698-4d97-452f-ca55-daa26317d4b0"
      },
      "execution_count": 50,
      "outputs": [
        {
          "output_type": "stream",
          "name": "stdout",
          "text": [
            "[[86 65 50 99 78 75 79 98 79 99 58 59 50 92 90 86 66 86 97 61]\n",
            " [74 93 83 58 86 64 99 63 55 63 75 63 78 72 80 80 75 62 51 81]\n",
            " [86 77 68 79 63 72 73 80 61 78 60 74 59 65 68 66 57 74 61 67]\n",
            " [96 57 61 78 83 70 82 74 94 55 54 57 74 74 94 84 90 65 63 74]\n",
            " [65 56 71 92 72 61 98 62 78 82 99 65 94 90 92 95 93 83 95 90]\n",
            " [75 59 87 50 68 73 53 79 66 70 68 98 64 65 67 75 96 98 92 67]\n",
            " [82 67 91 66 91 76 62 80 67 67 66 50 81 87 59 50 88 72 82 52]\n",
            " [53 81 85 77 68 63 93 98 79 95 61 99 72 87 61 71 83 81 93 74]\n",
            " [82 87 59 90 87 93 93 76 57 58 71 58 78 95 80 75 75 64 67 71]\n",
            " [63 91 83 54 73 80 78 89 77 89 59 57 72 82 53 59 62 54 80 56]]\n",
            "[96 60 80 59 52 51 99 88 92 63]\n"
          ]
        }
      ]
    },
    {
      "cell_type": "code",
      "source": [
        "#random.rand genarates the float values\n",
        "# Generating random float values between 0 and 1 with shape (8, 3)\n",
        "rand_float = np.random.rand(8, 3) #shape (like how many values it may be 1D,2D,3D)\n",
        "# Generating 8 random float values (1D array)\n",
        "g=np.random.rand(8)\n",
        "print(rand_float,'\\n')\n",
        "print(g)"
      ],
      "metadata": {
        "colab": {
          "base_uri": "https://localhost:8080/"
        },
        "id": "Q-dIBVkdpZGF",
        "outputId": "e232d25f-2f36-4511-cc0a-1520a617ff7a"
      },
      "execution_count": 51,
      "outputs": [
        {
          "output_type": "stream",
          "name": "stdout",
          "text": [
            "[[0.51784407 0.94966999 0.69597387]\n",
            " [0.90466474 0.64789243 0.34530215]\n",
            " [0.06549786 0.22062786 0.13737325]\n",
            " [0.74429592 0.34669066 0.57766425]\n",
            " [0.16835294 0.0379717  0.8171767 ]\n",
            " [0.81246485 0.18843566 0.3730624 ]\n",
            " [0.74419214 0.18624777 0.41379781]\n",
            " [0.23100532 0.65362293 0.76437476]] \n",
            "\n",
            "[0.83487913 0.21221285 0.9619666  0.26114034 0.8637702  0.12687442\n",
            " 0.37090221 0.67193303]\n"
          ]
        }
      ]
    },
    {
      "cell_type": "code",
      "source": [
        "# Generating random numbers from a standard normal distribution (mean=0, std=1)\n",
        "rand_norm = np.random.randn(3, 3)\n",
        "print(rand_norm)"
      ],
      "metadata": {
        "colab": {
          "base_uri": "https://localhost:8080/"
        },
        "id": "xqV4gIMQAWSq",
        "outputId": "cb5f7ecb-4670-49c3-fb5c-03494e98f769"
      },
      "execution_count": 52,
      "outputs": [
        {
          "output_type": "stream",
          "name": "stdout",
          "text": [
            "[[ 0.09803668  0.72213535 -0.55704378]\n",
            " [ 0.2271259  -0.74088606 -1.28311581]\n",
            " [ 0.36489477 -1.38025482 -1.46514309]]\n"
          ]
        }
      ]
    },
    {
      "cell_type": "code",
      "source": [
        "# Randomly selecting 3 values from the given list\n",
        "rand_choice = np.random.choice(['html','css','javascript','python','mysql'], 3)\n",
        "print(rand_choice)"
      ],
      "metadata": {
        "colab": {
          "base_uri": "https://localhost:8080/"
        },
        "id": "i0bovI8svwhM",
        "outputId": "a527323d-7d7e-4523-a7c9-a7853287df6c"
      },
      "execution_count": 53,
      "outputs": [
        {
          "output_type": "stream",
          "name": "stdout",
          "text": [
            "['python' 'mysql' 'mysql']\n"
          ]
        }
      ]
    },
    {
      "cell_type": "code",
      "source": [
        "# Setting seed ensures reproducibility of random numbers\n",
        "np.random.seed(10)\n",
        "rand_arr = np.random.randint(6)\n",
        "print(rand_arr)"
      ],
      "metadata": {
        "colab": {
          "base_uri": "https://localhost:8080/"
        },
        "id": "y0jfaznIvzCa",
        "outputId": "dd03f28a-0271-4829-905e-28927cc24035"
      },
      "execution_count": 54,
      "outputs": [
        {
          "output_type": "stream",
          "name": "stdout",
          "text": [
            "1\n"
          ]
        }
      ]
    },
    {
      "cell_type": "code",
      "source": [
        "# Creating a 2D array of shape (6, 2)\n",
        "arr = np.array([[1, 2], [4, 5],[6,7],[8,7],[1,2],[4,5]])\n",
        "# Getting shape of array (6 rows, 2 columns)\n",
        "print(arr.shape)"
      ],
      "metadata": {
        "colab": {
          "base_uri": "https://localhost:8080/"
        },
        "id": "5_gSoQNnv0TS",
        "outputId": "0d3f8b6e-d24a-4c60-837d-444effb47256"
      },
      "execution_count": 55,
      "outputs": [
        {
          "output_type": "stream",
          "name": "stdout",
          "text": [
            "(6, 2)\n"
          ]
        }
      ]
    },
    {
      "cell_type": "code",
      "source": [
        "# Reshaping array into shape (4, 3)\n",
        "reshaped = arr.reshape(4,3)\n",
        "print(reshaped)"
      ],
      "metadata": {
        "colab": {
          "base_uri": "https://localhost:8080/"
        },
        "id": "9NJROfoHv5oD",
        "outputId": "d7afcb65-4e2b-41f8-eea7-412b05ce06da"
      },
      "execution_count": 56,
      "outputs": [
        {
          "output_type": "stream",
          "name": "stdout",
          "text": [
            "[[1 2 4]\n",
            " [5 6 7]\n",
            " [8 7 1]\n",
            " [2 4 5]]\n"
          ]
        }
      ]
    },
    {
      "cell_type": "code",
      "source": [
        "# Flattening array into 1D\n",
        "flattened = arr.flatten()\n",
        "print(flattened)"
      ],
      "metadata": {
        "colab": {
          "base_uri": "https://localhost:8080/"
        },
        "id": "8kxQqX-Hv7rr",
        "outputId": "dfe4d6f7-a698-4cd5-837f-fda5b5282505"
      },
      "execution_count": 57,
      "outputs": [
        {
          "output_type": "stream",
          "name": "stdout",
          "text": [
            "[1 2 4 5 6 7 8 7 1 2 4 5]\n"
          ]
        }
      ]
    },
    {
      "cell_type": "code",
      "source": [
        "# Transposing array (rows become columns, columns become rows)\n",
        "transposed = arr.T\n",
        "print(transposed)"
      ],
      "metadata": {
        "colab": {
          "base_uri": "https://localhost:8080/"
        },
        "id": "y1c3TP4xv_Ts",
        "outputId": "79a05db8-c6d3-41dd-8c66-18377abc786d"
      },
      "execution_count": 58,
      "outputs": [
        {
          "output_type": "stream",
          "name": "stdout",
          "text": [
            "[[1 4 6 8 1 4]\n",
            " [2 5 7 7 2 5]]\n"
          ]
        }
      ]
    },
    {
      "cell_type": "code",
      "source": [
        "arr = np.array([[10, 20, 30, 40, 50],[40, 50, 60, 70, 80],[70, 80, 90, 100, 110]])\n",
        "\n",
        "print(arr[0])     # First row\n",
        "print(arr[-1])    # Last row\n",
        "print(arr[1:3])   # Rows from index 1 to 2\n",
        "print(arr[:2])    # First two rows\n",
        "print(arr[::2])   # Every second row\n"
      ],
      "metadata": {
        "colab": {
          "base_uri": "https://localhost:8080/"
        },
        "id": "MQpxAz1YwB5b",
        "outputId": "ca7f7360-aff4-419b-c4b8-affd5ef3d93f"
      },
      "execution_count": 59,
      "outputs": [
        {
          "output_type": "stream",
          "name": "stdout",
          "text": [
            "[10 20 30 40 50]\n",
            "[ 70  80  90 100 110]\n",
            "[[ 40  50  60  70  80]\n",
            " [ 70  80  90 100 110]]\n",
            "[[10 20 30 40 50]\n",
            " [40 50 60 70 80]]\n",
            "[[ 10  20  30  40  50]\n",
            " [ 70  80  90 100 110]]\n"
          ]
        }
      ]
    },
    {
      "cell_type": "code",
      "source": [
        "# Creating a 3x3 matrix (2D array)\n",
        "matrix = np.array([[10, 20, 30], [40, 50, 60], [70, 80, 90]])\n",
        "\n",
        "# Accessing element at row=1, col=2 (2nd row, 3rd column → value = 60)\n",
        "print(matrix[1, 2])\n",
        "\n",
        "# Accessing rows 0 to 1 (first two rows), column=2 (3rd column values → [30 60])\n",
        "print(matrix[0:2, 2])\n",
        "\n",
        "# Accessing all rows (:), but only column 0 (1st column values → [[10], [40], [70]])\n",
        "# Note: 0:1 keeps it as a 2D column vector instead of flattening\n",
        "print(matrix[:, 0:1])\n"
      ],
      "metadata": {
        "colab": {
          "base_uri": "https://localhost:8080/"
        },
        "id": "aEAKA-uaykgG",
        "outputId": "d7494e5e-8601-46a9-ebf1-9513e57fa99f"
      },
      "execution_count": 61,
      "outputs": [
        {
          "output_type": "stream",
          "name": "stdout",
          "text": [
            "60\n",
            "[30 60]\n",
            "[[10]\n",
            " [40]\n",
            " [70]]\n"
          ]
        }
      ]
    },
    {
      "cell_type": "code",
      "source": [
        "arr = np.array([4, 9, 16, 25, 36])"
      ],
      "metadata": {
        "id": "lQmXYxnEywfX"
      },
      "execution_count": 62,
      "outputs": []
    },
    {
      "cell_type": "code",
      "source": [
        "# Add 1 to every element → [5 10 17 26 37]\n",
        "print(arr + 1)\n",
        "\n",
        "# Multiply every element by 2 → [ 8 18 32 50 72]\n",
        "print(arr * 2)\n",
        "\n",
        "# Square every element → [  16   81  256  625 1296]\n",
        "print(arr ** 2)\n",
        "\n",
        "# Square root of every element → [2. 3. 4. 5. 6.]\n",
        "print(np.sqrt(arr))"
      ],
      "metadata": {
        "colab": {
          "base_uri": "https://localhost:8080/"
        },
        "id": "qJ0yHzYJy5aA",
        "outputId": "ca0fd932-aa55-4ea7-e321-68b65ebee371"
      },
      "execution_count": 63,
      "outputs": [
        {
          "output_type": "stream",
          "name": "stdout",
          "text": [
            "[ 5 10 17 26 37]\n",
            "[ 8 18 32 50 72]\n",
            "[  16   81  256  625 1296]\n",
            "[2. 3. 4. 5. 6.]\n"
          ]
        }
      ]
    }
  ]
}