{
  "nbformat": 4,
  "nbformat_minor": 0,
  "metadata": {
    "colab": {
      "provenance": [],
      "authorship_tag": "ABX9TyN+IEDfIwAp5i/mMKkSURUC",
      "include_colab_link": true
    },
    "kernelspec": {
      "name": "python3",
      "display_name": "Python 3"
    },
    "language_info": {
      "name": "python"
    }
  },
  "cells": [
    {
      "cell_type": "markdown",
      "metadata": {
        "id": "view-in-github",
        "colab_type": "text"
      },
      "source": [
        "<a href=\"https://colab.research.google.com/github/rasool321/Python-CourseWork/blob/main/cwd37.1.pandas.ipynb\" target=\"_parent\"><img src=\"https://colab.research.google.com/assets/colab-badge.svg\" alt=\"Open In Colab\"/></a>"
      ]
    },
    {
      "cell_type": "code",
      "execution_count": 1,
      "metadata": {
        "id": "VjExXpyIwCzg"
      },
      "outputs": [],
      "source": [
        "import pandas as pd"
      ]
    },
    {
      "cell_type": "code",
      "source": [
        "prices = [2999, 3999, 4999, 5999, 1999]\n",
        "products = ['Wireless', 'Earbuds', 'Smartphone', 'Laptop', 'Smartwatch']\n",
        "product_prices = pd.Series(prices, index=products)\n",
        "print(product_prices)\n"
      ],
      "metadata": {
        "colab": {
          "base_uri": "https://localhost:8080/"
        },
        "id": "5gXnPJfg1LWj",
        "outputId": "90bb4239-e910-48cf-b744-078b470f5e7d"
      },
      "execution_count": 51,
      "outputs": [
        {
          "output_type": "stream",
          "name": "stdout",
          "text": [
            "Wireless      2999\n",
            "Earbuds       3999\n",
            "Smartphone    4999\n",
            "Laptop        5999\n",
            "Smartwatch    1999\n",
            "dtype: int64\n"
          ]
        }
      ]
    },
    {
      "cell_type": "code",
      "source": [
        "print('Mean: ',product_prices.mean())\n",
        "print('Sum: ',product_prices.sum())\n",
        "print('Maximum: ',product_prices.max())\n",
        "print('Minimum: ',product_prices.min())\n",
        "print('Standard deviation: ',product_prices.std())"
      ],
      "metadata": {
        "colab": {
          "base_uri": "https://localhost:8080/"
        },
        "id": "h4d1AomT2i7X",
        "outputId": "29c0bcaf-2ab3-47a6-dadb-addb1e840688"
      },
      "execution_count": 5,
      "outputs": [
        {
          "output_type": "stream",
          "name": "stdout",
          "text": [
            "Mean:  3999.0\n",
            "Sum:  19995\n",
            "Maximum:  5999\n",
            "Minimum:  1999\n",
            "Standard deviation:  1581.1388300841897\n"
          ]
        }
      ]
    },
    {
      "cell_type": "code",
      "source": [
        "print('Head(First 3 Elements): \\n',product_prices.head(3))"
      ],
      "metadata": {
        "colab": {
          "base_uri": "https://localhost:8080/"
        },
        "id": "U-BR56b_3u8W",
        "outputId": "0f6a00d4-5621-4f6e-8ece-60fc8dc99530"
      },
      "execution_count": 7,
      "outputs": [
        {
          "output_type": "stream",
          "name": "stdout",
          "text": [
            "Head(First 3 Elements): \n",
            " Wireless      2999\n",
            "Earbuds       3999\n",
            "Smartphone    4999\n",
            "dtype: int64\n"
          ]
        }
      ]
    },
    {
      "cell_type": "code",
      "source": [
        "print('Tail(Last 2 Elements): \\n',product_prices.tail(2))"
      ],
      "metadata": {
        "colab": {
          "base_uri": "https://localhost:8080/"
        },
        "id": "B9c3joc935k2",
        "outputId": "71f3ac5c-d44f-4f3a-ca4a-eb615c95b366"
      },
      "execution_count": 8,
      "outputs": [
        {
          "output_type": "stream",
          "name": "stdout",
          "text": [
            "Tail(Last 2 Elements): \n",
            " Laptop        5999\n",
            "Smartwatch    1999\n",
            "dtype: int64\n"
          ]
        }
      ]
    },
    {
      "cell_type": "code",
      "source": [
        "print(\"Apply (Add 18% GST): \\n\",product_prices.apply(lambda x: f'₹{x + x*0.18:.2f}'))"
      ],
      "metadata": {
        "colab": {
          "base_uri": "https://localhost:8080/"
        },
        "id": "vPtITxCN4Cl2",
        "outputId": "ebba28d1-2999-4b14-e8cc-e08e6cecbeee"
      },
      "execution_count": 11,
      "outputs": [
        {
          "output_type": "stream",
          "name": "stdout",
          "text": [
            "Apply (Add 18% GST): \n",
            " Wireless      ₹3538.82\n",
            "Earbuds       ₹4718.82\n",
            "Smartphone    ₹5898.82\n",
            "Laptop        ₹7078.82\n",
            "Smartwatch    ₹2358.82\n",
            "dtype: object\n"
          ]
        }
      ]
    },
    {
      "cell_type": "code",
      "source": [
        "print(\"Map (Formatting as Currrency):\\n\",product_prices.map(lambda x: f'₹{x}.00'))"
      ],
      "metadata": {
        "colab": {
          "base_uri": "https://localhost:8080/"
        },
        "id": "bbXTjSag6KR_",
        "outputId": "d668cbcd-6c34-48a9-be33-b4d64027fd81"
      },
      "execution_count": 13,
      "outputs": [
        {
          "output_type": "stream",
          "name": "stdout",
          "text": [
            "Map (Formatting as Currrency):\n",
            " Wireless      ₹2999.00\n",
            "Earbuds       ₹3999.00\n",
            "Smartphone    ₹4999.00\n",
            "Laptop        ₹5999.00\n",
            "Smartwatch    ₹1999.00\n",
            "dtype: object\n"
          ]
        }
      ]
    },
    {
      "cell_type": "code",
      "source": [
        "print('Sort the values:\\n',product_prices.sort_values())"
      ],
      "metadata": {
        "colab": {
          "base_uri": "https://localhost:8080/"
        },
        "id": "I2DZKBK66ctp",
        "outputId": "0f04b5a4-6815-4dd8-f462-83f1ac036522"
      },
      "execution_count": 18,
      "outputs": [
        {
          "output_type": "stream",
          "name": "stdout",
          "text": [
            "Sort the values:\n",
            " Smartwatch    1999\n",
            "Wireless      2999\n",
            "Earbuds       3999\n",
            "Smartphone    4999\n",
            "Laptop        5999\n",
            "dtype: int64\n"
          ]
        }
      ]
    },
    {
      "cell_type": "code",
      "source": [
        "print('Sort the index:\\n',product_prices.sort_index())"
      ],
      "metadata": {
        "colab": {
          "base_uri": "https://localhost:8080/"
        },
        "id": "D244DlSF65bU",
        "outputId": "cfef1bc2-f929-40f3-d2eb-99ee89a91b42"
      },
      "execution_count": 21,
      "outputs": [
        {
          "output_type": "stream",
          "name": "stdout",
          "text": [
            "Sort the index:\n",
            " Earbuds       3999\n",
            "Laptop        5999\n",
            "Smartphone    4999\n",
            "Smartwatch    1999\n",
            "Wireless      2999\n",
            "dtype: int64\n"
          ]
        }
      ]
    },
    {
      "cell_type": "code",
      "source": [
        "print('Sort the values:\\n',product_prices.sort_values(ascending=False))"
      ],
      "metadata": {
        "colab": {
          "base_uri": "https://localhost:8080/"
        },
        "id": "9xEfKLjp7chY",
        "outputId": "45d871a4-8fd0-4ac2-c623-09dd5c3cb3cc"
      },
      "execution_count": 23,
      "outputs": [
        {
          "output_type": "stream",
          "name": "stdout",
          "text": [
            "Sort the values:\n",
            " Laptop        5999\n",
            "Smartphone    4999\n",
            "Earbuds       3999\n",
            "Wireless      2999\n",
            "Smartwatch    1999\n",
            "dtype: int64\n"
          ]
        }
      ]
    },
    {
      "cell_type": "code",
      "source": [
        "print('value counts:\\n',product_prices.value_counts())"
      ],
      "metadata": {
        "colab": {
          "base_uri": "https://localhost:8080/"
        },
        "id": "faXTNElZ7CB0",
        "outputId": "b2fbb3e0-6e23-4d19-c258-05311cb4bcf6"
      },
      "execution_count": 19,
      "outputs": [
        {
          "output_type": "stream",
          "name": "stdout",
          "text": [
            "value counts:\n",
            " 2999    1\n",
            "3999    1\n",
            "4999    1\n",
            "5999    1\n",
            "1999    1\n",
            "Name: count, dtype: int64\n"
          ]
        }
      ]
    },
    {
      "cell_type": "code",
      "source": [
        "# Example: Product Details\n",
        "data = {\n",
        "\"Product\": [\"Wireless Earbuds\", \"Smartphone\", \"Laptop\",\n",
        "           \"Smartwatch\", \"Bluetooth Speaker\"],\n",
        "\"Brand\": [\"SoundMax\", \"TechNova\", \"ByteCore\", \"TimeTrack\",\n",
        "         \"EchoBoom\"],\n",
        "\"Price\": [2999, 15999, 52999, 4999, 1999],\n",
        "\"Stock\": [50, 30, 20, 40, 60],\n",
        "\"BestSeller\":[True,False,True,False,False]\n",
        "}\n",
        "df = pd.DataFrame(data)\n",
        "print(df)"
      ],
      "metadata": {
        "colab": {
          "base_uri": "https://localhost:8080/"
        },
        "id": "Hj33KAUv7oYK",
        "outputId": "4384c185-bd91-42c9-b0fa-7c6c480acba2"
      },
      "execution_count": 26,
      "outputs": [
        {
          "output_type": "stream",
          "name": "stdout",
          "text": [
            "             Product      Brand  Price  Stock  BestSeller\n",
            "0   Wireless Earbuds   SoundMax   2999     50        True\n",
            "1         Smartphone   TechNova  15999     30       False\n",
            "2             Laptop   ByteCore  52999     20        True\n",
            "3         Smartwatch  TimeTrack   4999     40       False\n",
            "4  Bluetooth Speaker   EchoBoom   1999     60       False\n"
          ]
        }
      ]
    },
    {
      "cell_type": "code",
      "source": [
        "print('Shape of DataFrame:',df.shape)"
      ],
      "metadata": {
        "colab": {
          "base_uri": "https://localhost:8080/"
        },
        "id": "doz0NTmA-s2_",
        "outputId": "5b986ab6-2967-4c6c-a956-6409685c64d2"
      },
      "execution_count": 35,
      "outputs": [
        {
          "output_type": "stream",
          "name": "stdout",
          "text": [
            "Shape of DataFrame: (5, 5)\n"
          ]
        }
      ]
    },
    {
      "cell_type": "code",
      "source": [
        "print('Columns of the DataFrame: ',df.columns)"
      ],
      "metadata": {
        "colab": {
          "base_uri": "https://localhost:8080/"
        },
        "id": "VBy1X2a9-70J",
        "outputId": "dbab3bc5-10c4-46ed-dd46-f384472fcaf9"
      },
      "execution_count": 36,
      "outputs": [
        {
          "output_type": "stream",
          "name": "stdout",
          "text": [
            "Columns of the DataFrame:  Index(['Product', 'Brand', 'Price', 'Stock', 'BestSeller'], dtype='object')\n"
          ]
        }
      ]
    },
    {
      "cell_type": "code",
      "source": [
        "print('Index of the DataFrame: ',df.index)"
      ],
      "metadata": {
        "colab": {
          "base_uri": "https://localhost:8080/"
        },
        "id": "7mhaC15x_Phk",
        "outputId": "2987bb3a-0d4f-4ea5-ef59-6d21f660750d"
      },
      "execution_count": 37,
      "outputs": [
        {
          "output_type": "stream",
          "name": "stdout",
          "text": [
            "Index of the DataFrame:  RangeIndex(start=0, stop=5, step=1)\n"
          ]
        }
      ]
    },
    {
      "cell_type": "code",
      "source": [
        "print('Info about DataFrame: ',df.info())"
      ],
      "metadata": {
        "colab": {
          "base_uri": "https://localhost:8080/"
        },
        "id": "pjLV6nnX_WML",
        "outputId": "2bdb4d22-d2ba-4bb3-b838-c070742c90a5"
      },
      "execution_count": 38,
      "outputs": [
        {
          "output_type": "stream",
          "name": "stdout",
          "text": [
            "<class 'pandas.core.frame.DataFrame'>\n",
            "RangeIndex: 5 entries, 0 to 4\n",
            "Data columns (total 5 columns):\n",
            " #   Column      Non-Null Count  Dtype \n",
            "---  ------      --------------  ----- \n",
            " 0   Product     5 non-null      object\n",
            " 1   Brand       5 non-null      object\n",
            " 2   Price       5 non-null      int64 \n",
            " 3   Stock       5 non-null      int64 \n",
            " 4   BestSeller  5 non-null      bool  \n",
            "dtypes: bool(1), int64(2), object(2)\n",
            "memory usage: 297.0+ bytes\n",
            "Info about DataFrame:  None\n"
          ]
        }
      ]
    },
    {
      "cell_type": "code",
      "source": [
        "print('Statistical Description of DataFrame: ',df.describe())"
      ],
      "metadata": {
        "colab": {
          "base_uri": "https://localhost:8080/"
        },
        "id": "ukZU_tkV_ia8",
        "outputId": "2e478945-466e-41ce-dc1b-3b0cbc199c54"
      },
      "execution_count": 40,
      "outputs": [
        {
          "output_type": "stream",
          "name": "stdout",
          "text": [
            "Statistical Description of DataFrame:                Price      Stock\n",
            "count      5.000000   5.000000\n",
            "mean   15799.000000  40.000000\n",
            "std    21533.694527  15.811388\n",
            "min     1999.000000  20.000000\n",
            "25%     2999.000000  30.000000\n",
            "50%     4999.000000  40.000000\n",
            "75%    15999.000000  50.000000\n",
            "max    52999.000000  60.000000\n"
          ]
        }
      ]
    },
    {
      "cell_type": "code",
      "source": [
        "print('Head(First 2 rows):\\n',df.head(2))"
      ],
      "metadata": {
        "colab": {
          "base_uri": "https://localhost:8080/"
        },
        "id": "s_Q6AGxBAepd",
        "outputId": "dfaff14c-350a-4a79-be8f-792e07017112"
      },
      "execution_count": 41,
      "outputs": [
        {
          "output_type": "stream",
          "name": "stdout",
          "text": [
            "Head(First 2 rows):\n",
            "             Product     Brand  Price  Stock  BestSeller\n",
            "0  Wireless Earbuds  SoundMax   2999     50        True\n",
            "1        Smartphone  TechNova  15999     30       False\n"
          ]
        }
      ]
    },
    {
      "cell_type": "code",
      "source": [
        "print('Tail(Last 2 rows):\\n',df.tail(2))"
      ],
      "metadata": {
        "colab": {
          "base_uri": "https://localhost:8080/"
        },
        "id": "Oo60T3xgB6d4",
        "outputId": "4e7dd772-48d4-4206-bf9e-f930c5db9992"
      },
      "execution_count": 42,
      "outputs": [
        {
          "output_type": "stream",
          "name": "stdout",
          "text": [
            "Tail(Last 2 rows):\n",
            "              Product      Brand  Price  Stock  BestSeller\n",
            "3         Smartwatch  TimeTrack   4999     40       False\n",
            "4  Bluetooth Speaker   EchoBoom   1999     60       False\n"
          ]
        }
      ]
    },
    {
      "cell_type": "code",
      "source": [
        "df"
      ],
      "metadata": {
        "colab": {
          "base_uri": "https://localhost:8080/",
          "height": 206
        },
        "id": "W7ad2ZXiB_9-",
        "outputId": "596f08ee-bed5-4a30-bae4-8ca3b1cb0382"
      },
      "execution_count": 45,
      "outputs": [
        {
          "output_type": "execute_result",
          "data": {
            "text/plain": [
              "             Product      Brand  Price  Stock  BestSeller\n",
              "0   Wireless Earbuds   SoundMax   2999     50        True\n",
              "1         Smartphone   TechNova  15999     30       False\n",
              "2             Laptop   ByteCore  52999     20        True\n",
              "3         Smartwatch  TimeTrack   4999     40       False\n",
              "4  Bluetooth Speaker   EchoBoom   1999     60       False"
            ],
            "text/html": [
              "\n",
              "  <div id=\"df-24e2c6a4-9043-4a03-b94e-d926c5b495ef\" class=\"colab-df-container\">\n",
              "    <div>\n",
              "<style scoped>\n",
              "    .dataframe tbody tr th:only-of-type {\n",
              "        vertical-align: middle;\n",
              "    }\n",
              "\n",
              "    .dataframe tbody tr th {\n",
              "        vertical-align: top;\n",
              "    }\n",
              "\n",
              "    .dataframe thead th {\n",
              "        text-align: right;\n",
              "    }\n",
              "</style>\n",
              "<table border=\"1\" class=\"dataframe\">\n",
              "  <thead>\n",
              "    <tr style=\"text-align: right;\">\n",
              "      <th></th>\n",
              "      <th>Product</th>\n",
              "      <th>Brand</th>\n",
              "      <th>Price</th>\n",
              "      <th>Stock</th>\n",
              "      <th>BestSeller</th>\n",
              "    </tr>\n",
              "  </thead>\n",
              "  <tbody>\n",
              "    <tr>\n",
              "      <th>0</th>\n",
              "      <td>Wireless Earbuds</td>\n",
              "      <td>SoundMax</td>\n",
              "      <td>2999</td>\n",
              "      <td>50</td>\n",
              "      <td>True</td>\n",
              "    </tr>\n",
              "    <tr>\n",
              "      <th>1</th>\n",
              "      <td>Smartphone</td>\n",
              "      <td>TechNova</td>\n",
              "      <td>15999</td>\n",
              "      <td>30</td>\n",
              "      <td>False</td>\n",
              "    </tr>\n",
              "    <tr>\n",
              "      <th>2</th>\n",
              "      <td>Laptop</td>\n",
              "      <td>ByteCore</td>\n",
              "      <td>52999</td>\n",
              "      <td>20</td>\n",
              "      <td>True</td>\n",
              "    </tr>\n",
              "    <tr>\n",
              "      <th>3</th>\n",
              "      <td>Smartwatch</td>\n",
              "      <td>TimeTrack</td>\n",
              "      <td>4999</td>\n",
              "      <td>40</td>\n",
              "      <td>False</td>\n",
              "    </tr>\n",
              "    <tr>\n",
              "      <th>4</th>\n",
              "      <td>Bluetooth Speaker</td>\n",
              "      <td>EchoBoom</td>\n",
              "      <td>1999</td>\n",
              "      <td>60</td>\n",
              "      <td>False</td>\n",
              "    </tr>\n",
              "  </tbody>\n",
              "</table>\n",
              "</div>\n",
              "    <div class=\"colab-df-buttons\">\n",
              "\n",
              "  <div class=\"colab-df-container\">\n",
              "    <button class=\"colab-df-convert\" onclick=\"convertToInteractive('df-24e2c6a4-9043-4a03-b94e-d926c5b495ef')\"\n",
              "            title=\"Convert this dataframe to an interactive table.\"\n",
              "            style=\"display:none;\">\n",
              "\n",
              "  <svg xmlns=\"http://www.w3.org/2000/svg\" height=\"24px\" viewBox=\"0 -960 960 960\">\n",
              "    <path d=\"M120-120v-720h720v720H120Zm60-500h600v-160H180v160Zm220 220h160v-160H400v160Zm0 220h160v-160H400v160ZM180-400h160v-160H180v160Zm440 0h160v-160H620v160ZM180-180h160v-160H180v160Zm440 0h160v-160H620v160Z\"/>\n",
              "  </svg>\n",
              "    </button>\n",
              "\n",
              "  <style>\n",
              "    .colab-df-container {\n",
              "      display:flex;\n",
              "      gap: 12px;\n",
              "    }\n",
              "\n",
              "    .colab-df-convert {\n",
              "      background-color: #E8F0FE;\n",
              "      border: none;\n",
              "      border-radius: 50%;\n",
              "      cursor: pointer;\n",
              "      display: none;\n",
              "      fill: #1967D2;\n",
              "      height: 32px;\n",
              "      padding: 0 0 0 0;\n",
              "      width: 32px;\n",
              "    }\n",
              "\n",
              "    .colab-df-convert:hover {\n",
              "      background-color: #E2EBFA;\n",
              "      box-shadow: 0px 1px 2px rgba(60, 64, 67, 0.3), 0px 1px 3px 1px rgba(60, 64, 67, 0.15);\n",
              "      fill: #174EA6;\n",
              "    }\n",
              "\n",
              "    .colab-df-buttons div {\n",
              "      margin-bottom: 4px;\n",
              "    }\n",
              "\n",
              "    [theme=dark] .colab-df-convert {\n",
              "      background-color: #3B4455;\n",
              "      fill: #D2E3FC;\n",
              "    }\n",
              "\n",
              "    [theme=dark] .colab-df-convert:hover {\n",
              "      background-color: #434B5C;\n",
              "      box-shadow: 0px 1px 3px 1px rgba(0, 0, 0, 0.15);\n",
              "      filter: drop-shadow(0px 1px 2px rgba(0, 0, 0, 0.3));\n",
              "      fill: #FFFFFF;\n",
              "    }\n",
              "  </style>\n",
              "\n",
              "    <script>\n",
              "      const buttonEl =\n",
              "        document.querySelector('#df-24e2c6a4-9043-4a03-b94e-d926c5b495ef button.colab-df-convert');\n",
              "      buttonEl.style.display =\n",
              "        google.colab.kernel.accessAllowed ? 'block' : 'none';\n",
              "\n",
              "      async function convertToInteractive(key) {\n",
              "        const element = document.querySelector('#df-24e2c6a4-9043-4a03-b94e-d926c5b495ef');\n",
              "        const dataTable =\n",
              "          await google.colab.kernel.invokeFunction('convertToInteractive',\n",
              "                                                    [key], {});\n",
              "        if (!dataTable) return;\n",
              "\n",
              "        const docLinkHtml = 'Like what you see? Visit the ' +\n",
              "          '<a target=\"_blank\" href=https://colab.research.google.com/notebooks/data_table.ipynb>data table notebook</a>'\n",
              "          + ' to learn more about interactive tables.';\n",
              "        element.innerHTML = '';\n",
              "        dataTable['output_type'] = 'display_data';\n",
              "        await google.colab.output.renderOutput(dataTable, element);\n",
              "        const docLink = document.createElement('div');\n",
              "        docLink.innerHTML = docLinkHtml;\n",
              "        element.appendChild(docLink);\n",
              "      }\n",
              "    </script>\n",
              "  </div>\n",
              "\n",
              "\n",
              "    <div id=\"df-16e7abd8-1b7e-4f62-ae21-4c035bdc42f0\">\n",
              "      <button class=\"colab-df-quickchart\" onclick=\"quickchart('df-16e7abd8-1b7e-4f62-ae21-4c035bdc42f0')\"\n",
              "                title=\"Suggest charts\"\n",
              "                style=\"display:none;\">\n",
              "\n",
              "<svg xmlns=\"http://www.w3.org/2000/svg\" height=\"24px\"viewBox=\"0 0 24 24\"\n",
              "     width=\"24px\">\n",
              "    <g>\n",
              "        <path d=\"M19 3H5c-1.1 0-2 .9-2 2v14c0 1.1.9 2 2 2h14c1.1 0 2-.9 2-2V5c0-1.1-.9-2-2-2zM9 17H7v-7h2v7zm4 0h-2V7h2v10zm4 0h-2v-4h2v4z\"/>\n",
              "    </g>\n",
              "</svg>\n",
              "      </button>\n",
              "\n",
              "<style>\n",
              "  .colab-df-quickchart {\n",
              "      --bg-color: #E8F0FE;\n",
              "      --fill-color: #1967D2;\n",
              "      --hover-bg-color: #E2EBFA;\n",
              "      --hover-fill-color: #174EA6;\n",
              "      --disabled-fill-color: #AAA;\n",
              "      --disabled-bg-color: #DDD;\n",
              "  }\n",
              "\n",
              "  [theme=dark] .colab-df-quickchart {\n",
              "      --bg-color: #3B4455;\n",
              "      --fill-color: #D2E3FC;\n",
              "      --hover-bg-color: #434B5C;\n",
              "      --hover-fill-color: #FFFFFF;\n",
              "      --disabled-bg-color: #3B4455;\n",
              "      --disabled-fill-color: #666;\n",
              "  }\n",
              "\n",
              "  .colab-df-quickchart {\n",
              "    background-color: var(--bg-color);\n",
              "    border: none;\n",
              "    border-radius: 50%;\n",
              "    cursor: pointer;\n",
              "    display: none;\n",
              "    fill: var(--fill-color);\n",
              "    height: 32px;\n",
              "    padding: 0;\n",
              "    width: 32px;\n",
              "  }\n",
              "\n",
              "  .colab-df-quickchart:hover {\n",
              "    background-color: var(--hover-bg-color);\n",
              "    box-shadow: 0 1px 2px rgba(60, 64, 67, 0.3), 0 1px 3px 1px rgba(60, 64, 67, 0.15);\n",
              "    fill: var(--button-hover-fill-color);\n",
              "  }\n",
              "\n",
              "  .colab-df-quickchart-complete:disabled,\n",
              "  .colab-df-quickchart-complete:disabled:hover {\n",
              "    background-color: var(--disabled-bg-color);\n",
              "    fill: var(--disabled-fill-color);\n",
              "    box-shadow: none;\n",
              "  }\n",
              "\n",
              "  .colab-df-spinner {\n",
              "    border: 2px solid var(--fill-color);\n",
              "    border-color: transparent;\n",
              "    border-bottom-color: var(--fill-color);\n",
              "    animation:\n",
              "      spin 1s steps(1) infinite;\n",
              "  }\n",
              "\n",
              "  @keyframes spin {\n",
              "    0% {\n",
              "      border-color: transparent;\n",
              "      border-bottom-color: var(--fill-color);\n",
              "      border-left-color: var(--fill-color);\n",
              "    }\n",
              "    20% {\n",
              "      border-color: transparent;\n",
              "      border-left-color: var(--fill-color);\n",
              "      border-top-color: var(--fill-color);\n",
              "    }\n",
              "    30% {\n",
              "      border-color: transparent;\n",
              "      border-left-color: var(--fill-color);\n",
              "      border-top-color: var(--fill-color);\n",
              "      border-right-color: var(--fill-color);\n",
              "    }\n",
              "    40% {\n",
              "      border-color: transparent;\n",
              "      border-right-color: var(--fill-color);\n",
              "      border-top-color: var(--fill-color);\n",
              "    }\n",
              "    60% {\n",
              "      border-color: transparent;\n",
              "      border-right-color: var(--fill-color);\n",
              "    }\n",
              "    80% {\n",
              "      border-color: transparent;\n",
              "      border-right-color: var(--fill-color);\n",
              "      border-bottom-color: var(--fill-color);\n",
              "    }\n",
              "    90% {\n",
              "      border-color: transparent;\n",
              "      border-bottom-color: var(--fill-color);\n",
              "    }\n",
              "  }\n",
              "</style>\n",
              "\n",
              "      <script>\n",
              "        async function quickchart(key) {\n",
              "          const quickchartButtonEl =\n",
              "            document.querySelector('#' + key + ' button');\n",
              "          quickchartButtonEl.disabled = true;  // To prevent multiple clicks.\n",
              "          quickchartButtonEl.classList.add('colab-df-spinner');\n",
              "          try {\n",
              "            const charts = await google.colab.kernel.invokeFunction(\n",
              "                'suggestCharts', [key], {});\n",
              "          } catch (error) {\n",
              "            console.error('Error during call to suggestCharts:', error);\n",
              "          }\n",
              "          quickchartButtonEl.classList.remove('colab-df-spinner');\n",
              "          quickchartButtonEl.classList.add('colab-df-quickchart-complete');\n",
              "        }\n",
              "        (() => {\n",
              "          let quickchartButtonEl =\n",
              "            document.querySelector('#df-16e7abd8-1b7e-4f62-ae21-4c035bdc42f0 button');\n",
              "          quickchartButtonEl.style.display =\n",
              "            google.colab.kernel.accessAllowed ? 'block' : 'none';\n",
              "        })();\n",
              "      </script>\n",
              "    </div>\n",
              "\n",
              "  <div id=\"id_e4bedc97-8bac-4cb7-b865-b80e130b2de6\">\n",
              "    <style>\n",
              "      .colab-df-generate {\n",
              "        background-color: #E8F0FE;\n",
              "        border: none;\n",
              "        border-radius: 50%;\n",
              "        cursor: pointer;\n",
              "        display: none;\n",
              "        fill: #1967D2;\n",
              "        height: 32px;\n",
              "        padding: 0 0 0 0;\n",
              "        width: 32px;\n",
              "      }\n",
              "\n",
              "      .colab-df-generate:hover {\n",
              "        background-color: #E2EBFA;\n",
              "        box-shadow: 0px 1px 2px rgba(60, 64, 67, 0.3), 0px 1px 3px 1px rgba(60, 64, 67, 0.15);\n",
              "        fill: #174EA6;\n",
              "      }\n",
              "\n",
              "      [theme=dark] .colab-df-generate {\n",
              "        background-color: #3B4455;\n",
              "        fill: #D2E3FC;\n",
              "      }\n",
              "\n",
              "      [theme=dark] .colab-df-generate:hover {\n",
              "        background-color: #434B5C;\n",
              "        box-shadow: 0px 1px 3px 1px rgba(0, 0, 0, 0.15);\n",
              "        filter: drop-shadow(0px 1px 2px rgba(0, 0, 0, 0.3));\n",
              "        fill: #FFFFFF;\n",
              "      }\n",
              "    </style>\n",
              "    <button class=\"colab-df-generate\" onclick=\"generateWithVariable('df')\"\n",
              "            title=\"Generate code using this dataframe.\"\n",
              "            style=\"display:none;\">\n",
              "\n",
              "  <svg xmlns=\"http://www.w3.org/2000/svg\" height=\"24px\"viewBox=\"0 0 24 24\"\n",
              "       width=\"24px\">\n",
              "    <path d=\"M7,19H8.4L18.45,9,17,7.55,7,17.6ZM5,21V16.75L18.45,3.32a2,2,0,0,1,2.83,0l1.4,1.43a1.91,1.91,0,0,1,.58,1.4,1.91,1.91,0,0,1-.58,1.4L9.25,21ZM18.45,9,17,7.55Zm-12,3A5.31,5.31,0,0,0,4.9,8.1,5.31,5.31,0,0,0,1,6.5,5.31,5.31,0,0,0,4.9,4.9,5.31,5.31,0,0,0,6.5,1,5.31,5.31,0,0,0,8.1,4.9,5.31,5.31,0,0,0,12,6.5,5.46,5.46,0,0,0,6.5,12Z\"/>\n",
              "  </svg>\n",
              "    </button>\n",
              "    <script>\n",
              "      (() => {\n",
              "      const buttonEl =\n",
              "        document.querySelector('#id_e4bedc97-8bac-4cb7-b865-b80e130b2de6 button.colab-df-generate');\n",
              "      buttonEl.style.display =\n",
              "        google.colab.kernel.accessAllowed ? 'block' : 'none';\n",
              "\n",
              "      buttonEl.onclick = () => {\n",
              "        google.colab.notebook.generateWithVariable('df');\n",
              "      }\n",
              "      })();\n",
              "    </script>\n",
              "  </div>\n",
              "\n",
              "    </div>\n",
              "  </div>\n"
            ],
            "application/vnd.google.colaboratory.intrinsic+json": {
              "type": "dataframe",
              "variable_name": "df",
              "summary": "{\n  \"name\": \"df\",\n  \"rows\": 5,\n  \"fields\": [\n    {\n      \"column\": \"Product\",\n      \"properties\": {\n        \"dtype\": \"string\",\n        \"num_unique_values\": 5,\n        \"samples\": [\n          \"Smartphone\",\n          \"Bluetooth Speaker\",\n          \"Laptop\"\n        ],\n        \"semantic_type\": \"\",\n        \"description\": \"\"\n      }\n    },\n    {\n      \"column\": \"Brand\",\n      \"properties\": {\n        \"dtype\": \"string\",\n        \"num_unique_values\": 5,\n        \"samples\": [\n          \"TechNova\",\n          \"EchoBoom\",\n          \"ByteCore\"\n        ],\n        \"semantic_type\": \"\",\n        \"description\": \"\"\n      }\n    },\n    {\n      \"column\": \"Price\",\n      \"properties\": {\n        \"dtype\": \"number\",\n        \"std\": 21533,\n        \"min\": 1999,\n        \"max\": 52999,\n        \"num_unique_values\": 5,\n        \"samples\": [\n          15999,\n          1999,\n          52999\n        ],\n        \"semantic_type\": \"\",\n        \"description\": \"\"\n      }\n    },\n    {\n      \"column\": \"Stock\",\n      \"properties\": {\n        \"dtype\": \"number\",\n        \"std\": 15,\n        \"min\": 20,\n        \"max\": 60,\n        \"num_unique_values\": 5,\n        \"samples\": [\n          30,\n          60,\n          20\n        ],\n        \"semantic_type\": \"\",\n        \"description\": \"\"\n      }\n    },\n    {\n      \"column\": \"BestSeller\",\n      \"properties\": {\n        \"dtype\": \"boolean\",\n        \"num_unique_values\": 2,\n        \"samples\": [\n          false,\n          true\n        ],\n        \"semantic_type\": \"\",\n        \"description\": \"\"\n      }\n    }\n  ]\n}"
            }
          },
          "metadata": {},
          "execution_count": 45
        }
      ]
    },
    {
      "cell_type": "code",
      "source": [
        "print(df.loc[1,'Product']) #first is row and second is col 'label'\n",
        "print(df.loc[4,'Product'])\n",
        "print(df.loc[1,'Stock'])"
      ],
      "metadata": {
        "colab": {
          "base_uri": "https://localhost:8080/"
        },
        "id": "9VN0IJmGCPqi",
        "outputId": "7deae76d-6f1f-4704-93f3-741c4e8be88d"
      },
      "execution_count": 52,
      "outputs": [
        {
          "output_type": "stream",
          "name": "stdout",
          "text": [
            "Smartphone\n",
            "Bluetooth Speaker\n",
            "30\n"
          ]
        }
      ]
    },
    {
      "cell_type": "code",
      "source": [
        "print(df.iloc[1,1]) #first is col and second is row\n",
        "print(df.iloc[4,1])\n",
        "print(df.iloc[1,3])"
      ],
      "metadata": {
        "colab": {
          "base_uri": "https://localhost:8080/"
        },
        "id": "oyr6_hsSCy6d",
        "outputId": "f035e6e6-998f-45b3-f90f-66fad72d12ae"
      },
      "execution_count": 53,
      "outputs": [
        {
          "output_type": "stream",
          "name": "stdout",
          "text": [
            "TechNova\n",
            "EchoBoom\n",
            "30\n"
          ]
        }
      ]
    },
    {
      "cell_type": "code",
      "source": [
        "print(df.iloc[4]) #it gives the entire 4 col"
      ],
      "metadata": {
        "colab": {
          "base_uri": "https://localhost:8080/"
        },
        "id": "HGS7x0X0DdzV",
        "outputId": "136a2870-c20a-44f6-acf0-31ba9be88d45"
      },
      "execution_count": 56,
      "outputs": [
        {
          "output_type": "stream",
          "name": "stdout",
          "text": [
            "Product       Bluetooth Speaker\n",
            "Brand                  EchoBoom\n",
            "Price                      1999\n",
            "Stock                        60\n",
            "BestSeller                False\n",
            "Name: 4, dtype: object\n"
          ]
        }
      ]
    },
    {
      "cell_type": "code",
      "source": [
        "print(df.loc[4]) #it gives the entire 4 row"
      ],
      "metadata": {
        "colab": {
          "base_uri": "https://localhost:8080/"
        },
        "id": "OKLblK-KEYNo",
        "outputId": "448aeb46-3fb9-4baf-b0a0-01a66297c208"
      },
      "execution_count": 57,
      "outputs": [
        {
          "output_type": "stream",
          "name": "stdout",
          "text": [
            "Product       Bluetooth Speaker\n",
            "Brand                  EchoBoom\n",
            "Price                      1999\n",
            "Stock                        60\n",
            "BestSeller                False\n",
            "Name: 4, dtype: object\n"
          ]
        }
      ]
    },
    {
      "cell_type": "code",
      "source": [
        "print(df,'\\n')\n",
        "print(\"Using loc(Selecting 'smartwatch' row): \\n\",df.loc[df['Price']<5000],'\\n')\n",
        "print(\"Using loc(Selecting 'BestSeller' row): \\n\",df.loc[df['BestSeller']==True],'\\n')\n",
        "print(\"Using loc(Selecting 'Stock' row): \\n\",df.loc[df['Stock']>40])"
      ],
      "metadata": {
        "colab": {
          "base_uri": "https://localhost:8080/"
        },
        "id": "PGBRDNFAEpAa",
        "outputId": "d9560282-ecea-489a-df10-4156519ca8be"
      },
      "execution_count": 70,
      "outputs": [
        {
          "output_type": "stream",
          "name": "stdout",
          "text": [
            "             Product      Brand  Price  Stock  BestSeller\n",
            "0   Wireless Earbuds   SoundMax   2999     50        True\n",
            "1         Smartphone   TechNova  15999     30       False\n",
            "2             Laptop   ByteCore  52999     20        True\n",
            "3         Smartwatch  TimeTrack   4999     40       False\n",
            "4  Bluetooth Speaker   EchoBoom   1999     60       False \n",
            "\n",
            "Using loc(Selecting 'smartwatch' row): \n",
            "              Product      Brand  Price  Stock  BestSeller\n",
            "0   Wireless Earbuds   SoundMax   2999     50        True\n",
            "3         Smartwatch  TimeTrack   4999     40       False\n",
            "4  Bluetooth Speaker   EchoBoom   1999     60       False \n",
            "\n",
            "Using loc(Selecting 'BestSeller' row): \n",
            "             Product     Brand  Price  Stock  BestSeller\n",
            "0  Wireless Earbuds  SoundMax   2999     50        True\n",
            "2            Laptop  ByteCore  52999     20        True \n",
            "\n",
            "Using loc(Selecting 'Stock' row): \n",
            "              Product     Brand  Price  Stock  BestSeller\n",
            "0   Wireless Earbuds  SoundMax   2999     50        True\n",
            "4  Bluetooth Speaker  EchoBoom   1999     60       False\n"
          ]
        }
      ]
    }
  ]
}